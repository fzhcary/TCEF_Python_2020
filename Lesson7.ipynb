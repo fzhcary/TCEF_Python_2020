{
 "cells": [
  {
   "cell_type": "markdown",
   "metadata": {},
   "source": [
    "<h1 id=\"tocheading\">String Part 2</h1>\n",
    "<div id=\"toc\"></div>"
   ]
  },
  {
   "cell_type": "code",
   "execution_count": 1,
   "metadata": {},
   "outputs": [
    {
     "data": {
      "application/javascript": [
       "$.getScript('https://kmahelona.github.io/ipython_notebook_goodies/ipython_notebook_toc.js')\n"
      ],
      "text/plain": [
       "<IPython.core.display.Javascript object>"
      ]
     },
     "metadata": {},
     "output_type": "display_data"
    }
   ],
   "source": [
    "%%javascript\n",
    "$.getScript('https://kmahelona.github.io/ipython_notebook_goodies/ipython_notebook_toc.js')"
   ]
  },
  {
   "cell_type": "code",
   "execution_count": 2,
   "metadata": {},
   "outputs": [],
   "source": [
    "from IPython.display import Image"
   ]
  },
  {
   "cell_type": "markdown",
   "metadata": {},
   "source": [
    "### String I Review\n",
    "\n",
    "* Operators: +, *, in\n",
    "* Comparison\n",
    "* built-in functions\n",
    "* index and slicing\n",
    " "
   ]
  },
  {
   "cell_type": "code",
   "execution_count": 3,
   "metadata": {},
   "outputs": [
    {
     "data": {
      "text/plain": [
       "['__add__',\n",
       " '__class__',\n",
       " '__contains__',\n",
       " '__delattr__',\n",
       " '__dir__',\n",
       " '__doc__',\n",
       " '__eq__',\n",
       " '__format__',\n",
       " '__ge__',\n",
       " '__getattribute__',\n",
       " '__getitem__',\n",
       " '__getnewargs__',\n",
       " '__gt__',\n",
       " '__hash__',\n",
       " '__init__',\n",
       " '__init_subclass__',\n",
       " '__iter__',\n",
       " '__le__',\n",
       " '__len__',\n",
       " '__lt__',\n",
       " '__mod__',\n",
       " '__mul__',\n",
       " '__ne__',\n",
       " '__new__',\n",
       " '__reduce__',\n",
       " '__reduce_ex__',\n",
       " '__repr__',\n",
       " '__rmod__',\n",
       " '__rmul__',\n",
       " '__setattr__',\n",
       " '__sizeof__',\n",
       " '__str__',\n",
       " '__subclasshook__',\n",
       " 'capitalize',\n",
       " 'casefold',\n",
       " 'center',\n",
       " 'count',\n",
       " 'encode',\n",
       " 'endswith',\n",
       " 'expandtabs',\n",
       " 'find',\n",
       " 'format',\n",
       " 'format_map',\n",
       " 'index',\n",
       " 'isalnum',\n",
       " 'isalpha',\n",
       " 'isascii',\n",
       " 'isdecimal',\n",
       " 'isdigit',\n",
       " 'isidentifier',\n",
       " 'islower',\n",
       " 'isnumeric',\n",
       " 'isprintable',\n",
       " 'isspace',\n",
       " 'istitle',\n",
       " 'isupper',\n",
       " 'join',\n",
       " 'ljust',\n",
       " 'lower',\n",
       " 'lstrip',\n",
       " 'maketrans',\n",
       " 'partition',\n",
       " 'replace',\n",
       " 'rfind',\n",
       " 'rindex',\n",
       " 'rjust',\n",
       " 'rpartition',\n",
       " 'rsplit',\n",
       " 'rstrip',\n",
       " 'split',\n",
       " 'splitlines',\n",
       " 'startswith',\n",
       " 'strip',\n",
       " 'swapcase',\n",
       " 'title',\n",
       " 'translate',\n",
       " 'upper',\n",
       " 'zfill']"
      ]
     },
     "execution_count": 3,
     "metadata": {},
     "output_type": "execute_result"
    }
   ],
   "source": [
    "dir(str)"
   ]
  },
  {
   "cell_type": "code",
   "execution_count": 4,
   "metadata": {},
   "outputs": [
    {
     "name": "stdout",
     "output_type": "stream",
     "text": [
      "Help on method_descriptor:\n",
      "\n",
      "count(...)\n",
      "    S.count(sub[, start[, end]]) -> int\n",
      "    \n",
      "    Return the number of non-overlapping occurrences of substring sub in\n",
      "    string S[start:end].  Optional arguments start and end are\n",
      "    interpreted as in slice notation.\n",
      "\n"
     ]
    }
   ],
   "source": [
    "help(str.count)"
   ]
  },
  {
   "cell_type": "markdown",
   "metadata": {},
   "source": [
    "### More built-in string methods\n",
    "\n",
    "\n",
    "    isdigit\n",
    "    isalpha\n",
    "    isalnum\n",
    "    isupper\n",
    "    islower\n",
    "    format"
   ]
  },
  {
   "cell_type": "code",
   "execution_count": 5,
   "metadata": {},
   "outputs": [
    {
     "data": {
      "text/plain": [
       "True"
      ]
     },
     "execution_count": 5,
     "metadata": {},
     "output_type": "execute_result"
    }
   ],
   "source": [
    "\"124\".isdigit()"
   ]
  },
  {
   "cell_type": "code",
   "execution_count": 6,
   "metadata": {},
   "outputs": [
    {
     "data": {
      "text/plain": [
       "False"
      ]
     },
     "execution_count": 6,
     "metadata": {},
     "output_type": "execute_result"
    }
   ],
   "source": [
    "\"12.4\".isdigit()"
   ]
  },
  {
   "cell_type": "code",
   "execution_count": 7,
   "metadata": {},
   "outputs": [
    {
     "data": {
      "text/plain": [
       "False"
      ]
     },
     "execution_count": 7,
     "metadata": {},
     "output_type": "execute_result"
    }
   ],
   "source": [
    "\"abc\".isdigit()"
   ]
  },
  {
   "cell_type": "code",
   "execution_count": 8,
   "metadata": {},
   "outputs": [
    {
     "data": {
      "text/plain": [
       "False"
      ]
     },
     "execution_count": 8,
     "metadata": {},
     "output_type": "execute_result"
    }
   ],
   "source": [
    "\"123\".isalpha()"
   ]
  },
  {
   "cell_type": "code",
   "execution_count": 9,
   "metadata": {},
   "outputs": [
    {
     "data": {
      "text/plain": [
       "True"
      ]
     },
     "execution_count": 9,
     "metadata": {},
     "output_type": "execute_result"
    }
   ],
   "source": [
    "'abc'.isalpha()"
   ]
  },
  {
   "cell_type": "code",
   "execution_count": 10,
   "metadata": {},
   "outputs": [
    {
     "data": {
      "text/plain": [
       "True"
      ]
     },
     "execution_count": 10,
     "metadata": {},
     "output_type": "execute_result"
    }
   ],
   "source": [
    "'abc123'.isalnum()"
   ]
  },
  {
   "cell_type": "code",
   "execution_count": 11,
   "metadata": {},
   "outputs": [
    {
     "data": {
      "text/plain": [
       "True"
      ]
     },
     "execution_count": 11,
     "metadata": {},
     "output_type": "execute_result"
    }
   ],
   "source": [
    "\"abc123\".islower()"
   ]
  },
  {
   "cell_type": "code",
   "execution_count": 12,
   "metadata": {},
   "outputs": [
    {
     "data": {
      "text/plain": [
       "False"
      ]
     },
     "execution_count": 12,
     "metadata": {},
     "output_type": "execute_result"
    }
   ],
   "source": [
    "\"abc123\".isupper()"
   ]
  },
  {
   "cell_type": "code",
   "execution_count": 13,
   "metadata": {},
   "outputs": [
    {
     "data": {
      "text/plain": [
       "'ABC123'"
      ]
     },
     "execution_count": 13,
     "metadata": {},
     "output_type": "execute_result"
    }
   ],
   "source": [
    "\"abc123\".upper()"
   ]
  },
  {
   "cell_type": "code",
   "execution_count": 14,
   "metadata": {},
   "outputs": [
    {
     "data": {
      "text/plain": [
       "str"
      ]
     },
     "execution_count": 14,
     "metadata": {},
     "output_type": "execute_result"
    }
   ],
   "source": [
    "type('abc')"
   ]
  },
  {
   "cell_type": "code",
   "execution_count": 15,
   "metadata": {},
   "outputs": [
    {
     "data": {
      "text/plain": [
       "['Formatter',\n",
       " 'Template',\n",
       " '_ChainMap',\n",
       " '_TemplateMetaclass',\n",
       " '__all__',\n",
       " '__builtins__',\n",
       " '__cached__',\n",
       " '__doc__',\n",
       " '__file__',\n",
       " '__loader__',\n",
       " '__name__',\n",
       " '__package__',\n",
       " '__spec__',\n",
       " '_re',\n",
       " '_string',\n",
       " 'ascii_letters',\n",
       " 'ascii_lowercase',\n",
       " 'ascii_uppercase',\n",
       " 'capwords',\n",
       " 'digits',\n",
       " 'hexdigits',\n",
       " 'octdigits',\n",
       " 'printable',\n",
       " 'punctuation',\n",
       " 'whitespace']"
      ]
     },
     "execution_count": 15,
     "metadata": {},
     "output_type": "execute_result"
    }
   ],
   "source": [
    "import string\n",
    "dir(string)"
   ]
  },
  {
   "cell_type": "code",
   "execution_count": 16,
   "metadata": {},
   "outputs": [
    {
     "data": {
      "text/plain": [
       "'!\"#$%&\\'()*+,-./:;<=>?@[\\\\]^_`{|}~'"
      ]
     },
     "execution_count": 16,
     "metadata": {},
     "output_type": "execute_result"
    }
   ],
   "source": [
    "string.punctuation"
   ]
  },
  {
   "cell_type": "code",
   "execution_count": 17,
   "metadata": {},
   "outputs": [
    {
     "data": {
      "text/plain": [
       "'Whats up Bob'"
      ]
     },
     "execution_count": 17,
     "metadata": {},
     "output_type": "execute_result"
    }
   ],
   "source": [
    "\n",
    "s = \"What's up Bob?\"\n",
    "# maketrans('old', 'new', 'remove')\n",
    "s.translate(str.maketrans('', '', string.punctuation))"
   ]
  },
  {
   "cell_type": "code",
   "execution_count": 18,
   "metadata": {},
   "outputs": [
    {
     "name": "stdout",
     "output_type": "stream",
     "text": [
      "Whats up Bob"
     ]
    }
   ],
   "source": [
    "for c in s:\n",
    "    if c.isalpha() or c==' ':\n",
    "        print(c, end='')"
   ]
  },
  {
   "cell_type": "code",
   "execution_count": 19,
   "metadata": {},
   "outputs": [
    {
     "data": {
      "text/plain": [
       "'bbc'"
      ]
     },
     "execution_count": 19,
     "metadata": {},
     "output_type": "execute_result"
    }
   ],
   "source": [
    "s=\"abc\"\n",
    "s.translate(str.maketrans('a', 'b', string.punctuation))"
   ]
  },
  {
   "cell_type": "markdown",
   "metadata": {},
   "source": [
    "### String format\n",
    "\n",
    "* use placeholder {} \n",
    "* use f string\n",
    "* old style %\n",
    "\n",
    "\n",
    "f string is more convenient than {}"
   ]
  },
  {
   "cell_type": "code",
   "execution_count": 20,
   "metadata": {},
   "outputs": [
    {
     "data": {
      "text/plain": [
       "'hello, my name is frank'"
      ]
     },
     "execution_count": 20,
     "metadata": {},
     "output_type": "execute_result"
    }
   ],
   "source": [
    "name = \"frank\"\n",
    "\"hello, my name is {}\".format(name)"
   ]
  },
  {
   "cell_type": "code",
   "execution_count": 21,
   "metadata": {},
   "outputs": [
    {
     "data": {
      "text/plain": [
       "'hello, my name is frank, I am a teacher'"
      ]
     },
     "execution_count": 21,
     "metadata": {},
     "output_type": "execute_result"
    }
   ],
   "source": [
    "name = \"frank\"\n",
    "role = \"teacher\"\n",
    "\"hello, my name is {}, I am a {}\".format(name, role)"
   ]
  },
  {
   "cell_type": "code",
   "execution_count": 22,
   "metadata": {},
   "outputs": [
    {
     "data": {
      "text/plain": [
       "'hello, my name is frank, I am a teacher'"
      ]
     },
     "execution_count": 22,
     "metadata": {},
     "output_type": "execute_result"
    }
   ],
   "source": [
    "name = \"frank\"\n",
    "role = \"teacher\"\n",
    "\"hello, my name is {0}, I am a {1}\".format(name, role)"
   ]
  },
  {
   "cell_type": "code",
   "execution_count": 23,
   "metadata": {},
   "outputs": [
    {
     "data": {
      "text/plain": [
       "'hello, my name is frank, I am a teacher. Yes, frank is a teacher'"
      ]
     },
     "execution_count": 23,
     "metadata": {},
     "output_type": "execute_result"
    }
   ],
   "source": [
    "name = \"frank\"\n",
    "role = \"teacher\"\n",
    "\"hello, my name is {0}, I am a {1}. Yes, {0} is a {1}\".format(name, role)"
   ]
  },
  {
   "cell_type": "code",
   "execution_count": 24,
   "metadata": {},
   "outputs": [
    {
     "data": {
      "text/plain": [
       "'pi =   3.14159265'"
      ]
     },
     "execution_count": 24,
     "metadata": {},
     "output_type": "execute_result"
    }
   ],
   "source": [
    "# python formatted output\n",
    "import math\n",
    "\"pi = {0:12.8f}\".format(math.pi)"
   ]
  },
  {
   "cell_type": "code",
   "execution_count": 25,
   "metadata": {},
   "outputs": [
    {
     "name": "stdout",
     "output_type": "stream",
     "text": [
      "   0 2 ^  0 =                              1\n",
      "   1 2 ^  1 =                              2\n",
      "   2 2 ^  2 =                              4\n",
      "   3 2 ^  3 =                              8\n",
      "   4 2 ^  4 =                             16\n",
      "   5 2 ^  5 =                             32\n",
      "   6 2 ^  6 =                             64\n",
      "   7 2 ^  7 =                            128\n",
      "   8 2 ^  8 =                            256\n",
      "   9 2 ^  9 =                            512\n",
      "  10 2 ^ 10 =                           1024\n",
      "  11 2 ^ 11 =                           2048\n",
      "  12 2 ^ 12 =                           4096\n",
      "  13 2 ^ 13 =                           8192\n",
      "  14 2 ^ 14 =                          16384\n",
      "  15 2 ^ 15 =                          32768\n",
      "  16 2 ^ 16 =                          65536\n",
      "  17 2 ^ 17 =                         131072\n",
      "  18 2 ^ 18 =                         262144\n",
      "  19 2 ^ 19 =                         524288\n",
      "  20 2 ^ 20 =                        1048576\n",
      "  21 2 ^ 21 =                        2097152\n",
      "  22 2 ^ 22 =                        4194304\n",
      "  23 2 ^ 23 =                        8388608\n",
      "  24 2 ^ 24 =                       16777216\n",
      "  25 2 ^ 25 =                       33554432\n",
      "  26 2 ^ 26 =                       67108864\n",
      "  27 2 ^ 27 =                      134217728\n",
      "  28 2 ^ 28 =                      268435456\n",
      "  29 2 ^ 29 =                      536870912\n",
      "  30 2 ^ 30 =                     1073741824\n",
      "  31 2 ^ 31 =                     2147483648\n",
      "  32 2 ^ 32 =                     4294967296\n",
      "  33 2 ^ 33 =                     8589934592\n",
      "  34 2 ^ 34 =                    17179869184\n",
      "  35 2 ^ 35 =                    34359738368\n",
      "  36 2 ^ 36 =                    68719476736\n",
      "  37 2 ^ 37 =                   137438953472\n",
      "  38 2 ^ 38 =                   274877906944\n",
      "  39 2 ^ 39 =                   549755813888\n",
      "  40 2 ^ 40 =                  1099511627776\n",
      "  41 2 ^ 41 =                  2199023255552\n",
      "  42 2 ^ 42 =                  4398046511104\n",
      "  43 2 ^ 43 =                  8796093022208\n",
      "  44 2 ^ 44 =                 17592186044416\n",
      "  45 2 ^ 45 =                 35184372088832\n",
      "  46 2 ^ 46 =                 70368744177664\n",
      "  47 2 ^ 47 =                140737488355328\n",
      "  48 2 ^ 48 =                281474976710656\n",
      "  49 2 ^ 49 =                562949953421312\n",
      "  50 2 ^ 50 =               1125899906842624\n",
      "  51 2 ^ 51 =               2251799813685248\n",
      "  52 2 ^ 52 =               4503599627370496\n",
      "  53 2 ^ 53 =               9007199254740992\n",
      "  54 2 ^ 54 =              18014398509481984\n",
      "  55 2 ^ 55 =              36028797018963968\n",
      "  56 2 ^ 56 =              72057594037927936\n",
      "  57 2 ^ 57 =             144115188075855872\n",
      "  58 2 ^ 58 =             288230376151711744\n",
      "  59 2 ^ 59 =             576460752303423488\n",
      "  60 2 ^ 60 =            1152921504606846976\n",
      "  61 2 ^ 61 =            2305843009213693952\n",
      "  62 2 ^ 62 =            4611686018427387904\n",
      "  63 2 ^ 63 =            9223372036854775808\n"
     ]
    }
   ],
   "source": [
    "for i in range(64):\n",
    "    print(\"{0:4} 2 ^{0:3} = {1:30}\".format(i, 2**i))\n",
    "#     print(\"{0:4} 2 ^{0:3} = {1:>30}\".format(i, 2**i))"
   ]
  },
  {
   "cell_type": "code",
   "execution_count": 26,
   "metadata": {},
   "outputs": [
    {
     "name": "stdout",
     "output_type": "stream",
     "text": [
      "   0 2 ^  0 =               1               \n",
      "   1 2 ^  1 =               2               \n",
      "   2 2 ^  2 =               4               \n",
      "   3 2 ^  3 =               8               \n",
      "   4 2 ^  4 =               16              \n",
      "   5 2 ^  5 =               32              \n",
      "   6 2 ^  6 =               64              \n",
      "   7 2 ^  7 =              128              \n",
      "   8 2 ^  8 =              256              \n",
      "   9 2 ^  9 =              512              \n",
      "  10 2 ^ 10 =              1024             \n",
      "  11 2 ^ 11 =              2048             \n",
      "  12 2 ^ 12 =              4096             \n",
      "  13 2 ^ 13 =              8192             \n",
      "  14 2 ^ 14 =             16384             \n",
      "  15 2 ^ 15 =             32768             \n",
      "  16 2 ^ 16 =             65536             \n",
      "  17 2 ^ 17 =             131072            \n",
      "  18 2 ^ 18 =             262144            \n",
      "  19 2 ^ 19 =             524288            \n",
      "  20 2 ^ 20 =            1048576            \n",
      "  21 2 ^ 21 =            2097152            \n",
      "  22 2 ^ 22 =            4194304            \n",
      "  23 2 ^ 23 =            8388608            \n",
      "  24 2 ^ 24 =            16777216           \n",
      "  25 2 ^ 25 =            33554432           \n",
      "  26 2 ^ 26 =            67108864           \n",
      "  27 2 ^ 27 =           134217728           \n",
      "  28 2 ^ 28 =           268435456           \n",
      "  29 2 ^ 29 =           536870912           \n",
      "  30 2 ^ 30 =           1073741824          \n",
      "  31 2 ^ 31 =           2147483648          \n",
      "  32 2 ^ 32 =           4294967296          \n",
      "  33 2 ^ 33 =           8589934592          \n",
      "  34 2 ^ 34 =          17179869184          \n",
      "  35 2 ^ 35 =          34359738368          \n",
      "  36 2 ^ 36 =          68719476736          \n",
      "  37 2 ^ 37 =          137438953472         \n",
      "  38 2 ^ 38 =          274877906944         \n",
      "  39 2 ^ 39 =          549755813888         \n",
      "  40 2 ^ 40 =         1099511627776         \n",
      "  41 2 ^ 41 =         2199023255552         \n",
      "  42 2 ^ 42 =         4398046511104         \n",
      "  43 2 ^ 43 =         8796093022208         \n",
      "  44 2 ^ 44 =         17592186044416        \n",
      "  45 2 ^ 45 =         35184372088832        \n",
      "  46 2 ^ 46 =         70368744177664        \n",
      "  47 2 ^ 47 =        140737488355328        \n",
      "  48 2 ^ 48 =        281474976710656        \n",
      "  49 2 ^ 49 =        562949953421312        \n",
      "  50 2 ^ 50 =        1125899906842624       \n",
      "  51 2 ^ 51 =        2251799813685248       \n",
      "  52 2 ^ 52 =        4503599627370496       \n",
      "  53 2 ^ 53 =        9007199254740992       \n",
      "  54 2 ^ 54 =       18014398509481984       \n",
      "  55 2 ^ 55 =       36028797018963968       \n",
      "  56 2 ^ 56 =       72057594037927936       \n",
      "  57 2 ^ 57 =       144115188075855872      \n",
      "  58 2 ^ 58 =       288230376151711744      \n",
      "  59 2 ^ 59 =       576460752303423488      \n",
      "  60 2 ^ 60 =      1152921504606846976      \n",
      "  61 2 ^ 61 =      2305843009213693952      \n",
      "  62 2 ^ 62 =      4611686018427387904      \n",
      "  63 2 ^ 63 =      9223372036854775808      \n"
     ]
    }
   ],
   "source": [
    "# {<pos>:[><^]spaces>}\n",
    "# center aligned with ^\n",
    "for i in range(64):\n",
    "    print(\"{0:4} 2 ^{0:3} = {1:^30}\".format(i, 2**i))"
   ]
  },
  {
   "cell_type": "code",
   "execution_count": 27,
   "metadata": {},
   "outputs": [
    {
     "name": "stdout",
     "output_type": "stream",
     "text": [
      "   0 2^0 = 1                             \n",
      "   1 2^1 = 2                             \n",
      "   2 2^2 = 4                             \n",
      "   3 2^3 = 8                             \n",
      "   4 2^4 = 16                            \n",
      "   5 2^5 = 32                            \n",
      "   6 2^6 = 64                            \n",
      "   7 2^7 = 128                           \n",
      "   8 2^8 = 256                           \n",
      "   9 2^9 = 512                           \n",
      "  10 2^10 = 1024                          \n",
      "  11 2^11 = 2048                          \n",
      "  12 2^12 = 4096                          \n",
      "  13 2^13 = 8192                          \n",
      "  14 2^14 = 16384                         \n",
      "  15 2^15 = 32768                         \n",
      "  16 2^16 = 65536                         \n",
      "  17 2^17 = 131072                        \n",
      "  18 2^18 = 262144                        \n",
      "  19 2^19 = 524288                        \n",
      "  20 2^20 = 1048576                       \n",
      "  21 2^21 = 2097152                       \n",
      "  22 2^22 = 4194304                       \n",
      "  23 2^23 = 8388608                       \n",
      "  24 2^24 = 16777216                      \n",
      "  25 2^25 = 33554432                      \n",
      "  26 2^26 = 67108864                      \n",
      "  27 2^27 = 134217728                     \n",
      "  28 2^28 = 268435456                     \n",
      "  29 2^29 = 536870912                     \n",
      "  30 2^30 = 1073741824                    \n",
      "  31 2^31 = 2147483648                    \n",
      "  32 2^32 = 4294967296                    \n",
      "  33 2^33 = 8589934592                    \n",
      "  34 2^34 = 17179869184                   \n",
      "  35 2^35 = 34359738368                   \n",
      "  36 2^36 = 68719476736                   \n",
      "  37 2^37 = 137438953472                  \n",
      "  38 2^38 = 274877906944                  \n",
      "  39 2^39 = 549755813888                  \n",
      "  40 2^40 = 1099511627776                 \n",
      "  41 2^41 = 2199023255552                 \n",
      "  42 2^42 = 4398046511104                 \n",
      "  43 2^43 = 8796093022208                 \n",
      "  44 2^44 = 17592186044416                \n",
      "  45 2^45 = 35184372088832                \n",
      "  46 2^46 = 70368744177664                \n",
      "  47 2^47 = 140737488355328               \n",
      "  48 2^48 = 281474976710656               \n",
      "  49 2^49 = 562949953421312               \n",
      "  50 2^50 = 1125899906842624              \n",
      "  51 2^51 = 2251799813685248              \n",
      "  52 2^52 = 4503599627370496              \n",
      "  53 2^53 = 9007199254740992              \n",
      "  54 2^54 = 18014398509481984             \n",
      "  55 2^55 = 36028797018963968             \n",
      "  56 2^56 = 72057594037927936             \n",
      "  57 2^57 = 144115188075855872            \n",
      "  58 2^58 = 288230376151711744            \n",
      "  59 2^59 = 576460752303423488            \n",
      "  60 2^60 = 1152921504606846976           \n",
      "  61 2^61 = 2305843009213693952           \n",
      "  62 2^62 = 4611686018427387904           \n",
      "  63 2^63 = 9223372036854775808           \n"
     ]
    }
   ],
   "source": [
    "# left align with <\n",
    "for i in range(64):\n",
    "    print(\"{0:4} 2^{0} = {1:<30}\".format(i, 2**i))"
   ]
  },
  {
   "cell_type": "code",
   "execution_count": 28,
   "metadata": {},
   "outputs": [
    {
     "name": "stdout",
     "output_type": "stream",
     "text": [
      "Python 3.7.7\r\n"
     ]
    }
   ],
   "source": [
    "# use f string. must be 3.6 or upper\n",
    "!python -V"
   ]
  },
  {
   "cell_type": "code",
   "execution_count": 29,
   "metadata": {},
   "outputs": [
    {
     "data": {
      "text/plain": [
       "'frank is a teacher'"
      ]
     },
     "execution_count": 29,
     "metadata": {},
     "output_type": "execute_result"
    }
   ],
   "source": [
    "f\"{name} is a {role}\""
   ]
  },
  {
   "cell_type": "code",
   "execution_count": 30,
   "metadata": {},
   "outputs": [
    {
     "data": {
      "text/plain": [
       "'frank is a teacher'"
      ]
     },
     "execution_count": 30,
     "metadata": {},
     "output_type": "execute_result"
    }
   ],
   "source": [
    "# old style, \n",
    "\"%s is a %s\" % (name, role)"
   ]
  },
  {
   "cell_type": "markdown",
   "metadata": {},
   "source": [
    "### convert str to list and vice versa\n",
    "\n",
    "    \n",
    "    translate\n",
    "    split\n",
    "    join"
   ]
  },
  {
   "cell_type": "code",
   "execution_count": 31,
   "metadata": {},
   "outputs": [],
   "source": [
    "# informal introduction of list"
   ]
  },
  {
   "cell_type": "code",
   "execution_count": 32,
   "metadata": {},
   "outputs": [
    {
     "data": {
      "text/plain": [
       "[1, 2, 3]"
      ]
     },
     "execution_count": 32,
     "metadata": {},
     "output_type": "execute_result"
    }
   ],
   "source": [
    "numbers=[1,2,3]\n",
    "numbers"
   ]
  },
  {
   "cell_type": "code",
   "execution_count": 33,
   "metadata": {},
   "outputs": [],
   "source": [
    "fruits = ['apple', 'pear', 'orange']"
   ]
  },
  {
   "cell_type": "code",
   "execution_count": 34,
   "metadata": {},
   "outputs": [
    {
     "name": "stdout",
     "output_type": "stream",
     "text": [
      "apple\n",
      "pear\n",
      "orange\n"
     ]
    }
   ],
   "source": [
    "for item in fruits:\n",
    "    print(item)"
   ]
  },
  {
   "cell_type": "code",
   "execution_count": 35,
   "metadata": {},
   "outputs": [
    {
     "name": "stdout",
     "output_type": "stream",
     "text": [
      "orange\n",
      "pear\n",
      "apple\n"
     ]
    }
   ],
   "source": [
    "# print in reverse order\n",
    "for item in fruits[::-1]:\n",
    "    print(item)"
   ]
  },
  {
   "cell_type": "code",
   "execution_count": 36,
   "metadata": {},
   "outputs": [
    {
     "name": "stdout",
     "output_type": "stream",
     "text": [
      "how are you doing\n"
     ]
    }
   ],
   "source": [
    "sentence = \"How aRe you doing?\"\n",
    "processed = sentence.translate(\n",
    "    str.maketrans(string.ascii_uppercase,\n",
    "                  string.ascii_lowercase,\n",
    "                  string.punctuation))\n",
    "print(processed)"
   ]
  },
  {
   "cell_type": "code",
   "execution_count": 37,
   "metadata": {},
   "outputs": [
    {
     "data": {
      "text/plain": [
       "['how', 'are', 'you', 'doing']"
      ]
     },
     "execution_count": 37,
     "metadata": {},
     "output_type": "execute_result"
    }
   ],
   "source": [
    "l = processed.split() # split str into list by ' '\n",
    "l"
   ]
  },
  {
   "cell_type": "code",
   "execution_count": 38,
   "metadata": {},
   "outputs": [
    {
     "data": {
      "text/plain": [
       "['i', 'am', 'fine']"
      ]
     },
     "execution_count": 38,
     "metadata": {},
     "output_type": "execute_result"
    }
   ],
   "source": [
    "\"i-am-fine\".split('-')"
   ]
  },
  {
   "cell_type": "code",
   "execution_count": 39,
   "metadata": {},
   "outputs": [
    {
     "data": {
      "text/plain": [
       "'how*are*you*doing'"
      ]
     },
     "execution_count": 39,
     "metadata": {},
     "output_type": "execute_result"
    }
   ],
   "source": [
    "# separator.join(list)\n",
    "'*'.join(l)"
   ]
  },
  {
   "cell_type": "markdown",
   "metadata": {},
   "source": [
    "## Math fun - Magic number\n",
    "\n",
    "\n",
    "    input a number consist of 3 unique digits, \n",
    "    find the max number that can be made from these 3 digits,\n",
    "    and find the min number from these 3 digits,\n",
    "    substract the min from max\n",
    "    do the above over and over again\n",
    "    you will arrive at a magic number\n",
    "    and stay with it forever..."
   ]
  },
  {
   "cell_type": "code",
   "execution_count": 40,
   "metadata": {},
   "outputs": [
    {
     "data": {
      "text/plain": [
       "5050"
      ]
     },
     "execution_count": 40,
     "metadata": {},
     "output_type": "execute_result"
    }
   ],
   "source": [
    "# informal introduction of function\n",
    "# purpose, syntax\n",
    "def add_together(n):\n",
    "    total = 0\n",
    "    for i in range(n+1):\n",
    "        total = total + i\n",
    "    return total\n",
    "\n",
    "add_together(100)"
   ]
  },
  {
   "cell_type": "code",
   "execution_count": 41,
   "metadata": {},
   "outputs": [],
   "source": [
    "def get_sorted_digits(n):\n",
    "    \"\"\" give a number, return sorted digits\n",
    "    for example, 243 -> '2', '3', '4'\n",
    "    \n",
    "    \"\"\"\n",
    "    return sorted(str(n))\n",
    "\n",
    "def get_max(l):\n",
    "    total = 0\n",
    "    count = 0\n",
    "    for i in l:\n",
    "        total += int(i) * 10**count\n",
    "        count += 1\n",
    "    return total\n",
    "\n",
    "def get_min(l):\n",
    "    total = 0\n",
    "    count = 0\n",
    "    for i in l[::-1]:\n",
    "        total += int(i) * 10**count\n",
    "        count += 1\n",
    "    return total"
   ]
  },
  {
   "cell_type": "code",
   "execution_count": 42,
   "metadata": {},
   "outputs": [
    {
     "data": {
      "text/plain": [
       "['2', '3', '4']"
      ]
     },
     "execution_count": 42,
     "metadata": {},
     "output_type": "execute_result"
    }
   ],
   "source": [
    "get_sorted_digits(234)"
   ]
  },
  {
   "cell_type": "code",
   "execution_count": 43,
   "metadata": {},
   "outputs": [],
   "source": [
    "l = get_sorted_digits(243)"
   ]
  },
  {
   "cell_type": "code",
   "execution_count": 44,
   "metadata": {},
   "outputs": [
    {
     "data": {
      "text/plain": [
       "432"
      ]
     },
     "execution_count": 44,
     "metadata": {},
     "output_type": "execute_result"
    }
   ],
   "source": [
    "get_max(l)"
   ]
  },
  {
   "cell_type": "code",
   "execution_count": 45,
   "metadata": {},
   "outputs": [
    {
     "data": {
      "text/plain": [
       "234"
      ]
     },
     "execution_count": 45,
     "metadata": {},
     "output_type": "execute_result"
    }
   ],
   "source": [
    "get_min(l)"
   ]
  },
  {
   "cell_type": "code",
   "execution_count": 46,
   "metadata": {},
   "outputs": [
    {
     "name": "stdout",
     "output_type": "stream",
     "text": [
      "please input a number: 374\n",
      "374\n",
      "743 - 347\n",
      "396\n",
      "963 - 369\n",
      "594\n",
      "954 - 459\n",
      "495\n",
      "954 - 459\n"
     ]
    }
   ],
   "source": [
    "n = int(input(\"please input a number: \"))\n",
    "\n",
    "while True:\n",
    "    print(n)\n",
    "    l = get_sorted_digits(n)\n",
    "    print(get_max(l), '-', get_min(l))\n",
    "    x = get_max(l) - get_min(l)\n",
    "\n",
    "    if x == n:\n",
    "        break\n",
    "    else:\n",
    "        n = x"
   ]
  },
  {
   "cell_type": "markdown",
   "metadata": {},
   "source": [
    "## Summary\n"
   ]
  },
  {
   "cell_type": "code",
   "execution_count": 47,
   "metadata": {},
   "outputs": [],
   "source": [
    "# Homework: 5.1 - 5.C"
   ]
  },
  {
   "cell_type": "code",
   "execution_count": null,
   "metadata": {},
   "outputs": [],
   "source": []
  },
  {
   "cell_type": "code",
   "execution_count": null,
   "metadata": {},
   "outputs": [],
   "source": []
  }
 ],
 "metadata": {
  "kernelspec": {
   "display_name": "Python 3",
   "language": "python",
   "name": "python3"
  },
  "language_info": {
   "codemirror_mode": {
    "name": "ipython",
    "version": 3
   },
   "file_extension": ".py",
   "mimetype": "text/x-python",
   "name": "python",
   "nbconvert_exporter": "python",
   "pygments_lexer": "ipython3",
   "version": "3.7.7"
  }
 },
 "nbformat": 4,
 "nbformat_minor": 2
}
