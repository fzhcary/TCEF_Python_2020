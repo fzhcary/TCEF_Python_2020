{
 "cells": [
  {
   "cell_type": "markdown",
   "metadata": {},
   "source": [
    "# Data Structures\n",
    "\n",
    "Abstract Data Types\n",
    "* Represent the structure of the data, no matter what type of the underlying data\n",
    "* Example: List, Dict, Set, ...\n",
    "    * List of int, str, float...\n",
    "    * Dict of { key: value}\n",
    "\n",
    "## Queue\n",
    "* First in, first out (FIFO)\n",
    "* Examples\n",
    "    * a line at restaurant\n",
    "    * breadth first search"
   ]
  },
  {
   "cell_type": "markdown",
   "metadata": {},
   "source": [
    "### Detour  --  Class\n",
    "* user defined date types in addtional to basic data type\n",
    "* class represents a blueprint for the new type\n",
    "* an object is an instance of this type, for example\n",
    "    * List is a class and a_list = List(), a_list is an object\n",
    "* a class has two parts\n",
    "    * a set of variables ( to describe the class, attribute ) \n",
    "    * a set of functions ( to describe the behavior, method )\n",
    "* for example, a Bird class\n",
    "    * white color\n",
    "    * can fly"
   ]
  },
  {
   "cell_type": "code",
   "execution_count": 1,
   "metadata": {},
   "outputs": [],
   "source": [
    "class Bird():  # class definition starts with keyword class\n",
    "    # special methods start and end with double underscore __\n",
    "    def __init__(self, name, color=\"\"):\n",
    "        self.name=name \n",
    "        self.color=color\n",
    "        \n",
    "    def fly(self):\n",
    "        print(\"yes i can fly\")\n",
    "        \n",
    "    def __str__(self):\n",
    "        return self.color + \" \" + self.name"
   ]
  },
  {
   "cell_type": "code",
   "execution_count": 2,
   "metadata": {},
   "outputs": [
    {
     "name": "stdout",
     "output_type": "stream",
     "text": [
      "white eagle\n",
      "yes i can fly\n"
     ]
    }
   ],
   "source": [
    "# two arguments maps to 2nd and 3rd arguments of __init__\n",
    "# first is always self\n",
    "a_bird = Bird(\"eagle\", \"white\")  \n",
    "print(a_bird)\n",
    "a_bird.fly()"
   ]
  },
  {
   "cell_type": "code",
   "execution_count": 3,
   "metadata": {},
   "outputs": [
    {
     "name": "stdout",
     "output_type": "stream",
     "text": [
      " dove\n"
     ]
    }
   ],
   "source": [
    "another_bird = Bird(\"dove\")\n",
    "print(another_bird)"
   ]
  },
  {
   "cell_type": "code",
   "execution_count": 5,
   "metadata": {},
   "outputs": [],
   "source": [
    "# Bird()"
   ]
  },
  {
   "cell_type": "code",
   "execution_count": 6,
   "metadata": {},
   "outputs": [],
   "source": [
    "# [item, item, item,...] FIFO\n",
    "class Queue:\n",
    "    def __init__(self, data=None):\n",
    "        self.data = data or []\n",
    "        \n",
    "    def push(self, item):\n",
    "        self.data.append(item)\n",
    "        \n",
    "    def pop(self):\n",
    "        return self.data.pop(0) # list.pop(0) give first item\n",
    "    \n",
    "    def isEmpty(self):\n",
    "        return len(self.data)==0\n",
    "    \n",
    "    def __str__(self):\n",
    "        return str(self.data)"
   ]
  },
  {
   "cell_type": "code",
   "execution_count": 15,
   "metadata": {},
   "outputs": [],
   "source": [
    "q = Queue([1,2,3])"
   ]
  },
  {
   "cell_type": "code",
   "execution_count": 16,
   "metadata": {},
   "outputs": [
    {
     "data": {
      "text/plain": [
       "[1, 2, 3]"
      ]
     },
     "execution_count": 16,
     "metadata": {},
     "output_type": "execute_result"
    }
   ],
   "source": [
    "q.data"
   ]
  },
  {
   "cell_type": "code",
   "execution_count": 17,
   "metadata": {},
   "outputs": [],
   "source": [
    "q.push(1)\n",
    "q.push(2)"
   ]
  },
  {
   "cell_type": "code",
   "execution_count": 18,
   "metadata": {},
   "outputs": [
    {
     "name": "stdout",
     "output_type": "stream",
     "text": [
      "[1, 2, 3, 1, 2]\n"
     ]
    }
   ],
   "source": [
    "print(q)"
   ]
  },
  {
   "cell_type": "code",
   "execution_count": 19,
   "metadata": {},
   "outputs": [
    {
     "data": {
      "text/plain": [
       "1"
      ]
     },
     "execution_count": 19,
     "metadata": {},
     "output_type": "execute_result"
    }
   ],
   "source": [
    "q.pop()"
   ]
  },
  {
   "cell_type": "code",
   "execution_count": 20,
   "metadata": {},
   "outputs": [
    {
     "data": {
      "text/plain": [
       "2"
      ]
     },
     "execution_count": 20,
     "metadata": {},
     "output_type": "execute_result"
    }
   ],
   "source": [
    "q.pop()"
   ]
  },
  {
   "cell_type": "code",
   "execution_count": null,
   "metadata": {},
   "outputs": [],
   "source": [
    "# q.pop()  # IndexError"
   ]
  },
  {
   "cell_type": "code",
   "execution_count": null,
   "metadata": {},
   "outputs": [],
   "source": []
  },
  {
   "cell_type": "code",
   "execution_count": 21,
   "metadata": {},
   "outputs": [
    {
     "name": "stdout",
     "output_type": "stream",
     "text": [
      "   |__ ./homework2.txt\n",
      "   |__ ./palindrome_string.ipynb\n",
      "   |__ ./abc.txt\n",
      "   |__ ./movieLens.ipynb\n",
      "   |__ ./Class 2.ipynb\n",
      "   |__ ./resume\n",
      "   |__ ./test_api.ipynb\n",
      "   |__ ./Class_4.ipynb\n",
      "   |__ ./abcd.txt\n",
      "   |__ ./abc2.txt\n",
      "   |__ ./test.txt\n",
      "   |__ ./Class_5.ipynb\n",
      "   |__ ./Homework4_answers.ipynb\n",
      "   |__ ./ex1.ipynb\n",
      "   |__ ./Class_3.ipynb\n",
      "   |__ ./homework3_answers.ipynb\n",
      "      |__ ./test_dir/test_file.txt\n",
      "      |__ ./.ipynb_checkpoints/homework3_answers-checkpoint.ipynb\n",
      "      |__ ./.ipynb_checkpoints/ex1-checkpoint.ipynb\n",
      "      |__ ./.ipynb_checkpoints/Class_5-checkpoint.ipynb\n",
      "      |__ ./.ipynb_checkpoints/Class 2-checkpoint.ipynb\n",
      "      |__ ./.ipynb_checkpoints/Class_4-checkpoint.ipynb\n",
      "      |__ ./.ipynb_checkpoints/Homework4_answers-checkpoint.ipynb\n",
      "      |__ ./.ipynb_checkpoints/Class_3-checkpoint.ipynb\n",
      "      |__ ./.ipynb_checkpoints/test_api-checkpoint.ipynb\n",
      "      |__ ./.ipynb_checkpoints/palindrome_string-checkpoint.ipynb\n",
      "      |__ ./.ipynb_checkpoints/movieLens-checkpoint.ipynb\n"
     ]
    }
   ],
   "source": [
    "# you don't have to understand this practical example !!!\n",
    "import os\n",
    "\n",
    "# list all the files\n",
    "# list all the folders, including its children ( file, dirs)\n",
    "# folder1, folder2, folder3\n",
    "# folder1\n",
    "# folder2\n",
    "# folder3\n",
    "# folder1/files...\n",
    "# folder2/files...\n",
    "\n",
    "def tree(root):\n",
    "    q = Queue()\n",
    "    q.push([0, root])\n",
    "    while not q.isEmpty():\n",
    "        level, node = q.pop() # process first item\n",
    "        if os.path.isfile(node):\n",
    "            print(level*\"   \"+ \"|__\", node)\n",
    "        else: # it is a dir.\n",
    "            for i in os.listdir(node):\n",
    "                q.push([level+1, os.path.join(node, i)])\n",
    "                \n",
    "tree(\".\")"
   ]
  },
  {
   "cell_type": "markdown",
   "metadata": {},
   "source": [
    "## Stack\n",
    "* Last in, first out ( LIFO )\n",
    "* Examples\n",
    "    * pile of dinner plates,\n",
    "    * Function calls,\n",
    "    * depth first search, "
   ]
  },
  {
   "cell_type": "code",
   "execution_count": 22,
   "metadata": {},
   "outputs": [],
   "source": [
    "class Stack:\n",
    "    def __init__(self, data=None):\n",
    "        self.data = data or []\n",
    "        \n",
    "    def push(self, item):\n",
    "        self.data.append(item)\n",
    "        \n",
    "    def pop(self):\n",
    "        return self.data.pop()\n",
    "    \n",
    "    def isEmpty(self):\n",
    "        return len(self.data)==0\n",
    "    \n",
    "    def __str__(self):\n",
    "        return str(self.data)"
   ]
  },
  {
   "cell_type": "code",
   "execution_count": 24,
   "metadata": {},
   "outputs": [],
   "source": [
    "s = Stack()\n",
    "s.push(\"a\")\n",
    "s.push(\"b\")"
   ]
  },
  {
   "cell_type": "code",
   "execution_count": 25,
   "metadata": {},
   "outputs": [
    {
     "name": "stdout",
     "output_type": "stream",
     "text": [
      "['a', 'b']\n"
     ]
    }
   ],
   "source": [
    "print(s)"
   ]
  },
  {
   "cell_type": "code",
   "execution_count": 26,
   "metadata": {},
   "outputs": [
    {
     "data": {
      "text/plain": [
       "'b'"
      ]
     },
     "execution_count": 26,
     "metadata": {},
     "output_type": "execute_result"
    }
   ],
   "source": [
    "s.pop()"
   ]
  },
  {
   "cell_type": "code",
   "execution_count": 27,
   "metadata": {},
   "outputs": [
    {
     "data": {
      "text/plain": [
       "'a'"
      ]
     },
     "execution_count": 27,
     "metadata": {},
     "output_type": "execute_result"
    }
   ],
   "source": [
    "s.pop()"
   ]
  },
  {
   "cell_type": "raw",
   "metadata": {},
   "source": [
    "Problem: Check Balanced Parentheses\n",
    "\n",
    "Balanced: Return True\n",
    "(()()()())\n",
    "\n",
    "(((())))\n",
    "\n",
    "(()((())()))\n",
    "\n",
    "Imbalanced: Return False\n",
    "((((((())\n",
    "\n",
    "()))\n",
    "\n",
    "(()()(()\n"
   ]
  },
  {
   "cell_type": "code",
   "execution_count": 28,
   "metadata": {},
   "outputs": [],
   "source": [
    "# )))  (((  order is incorrect. open must be to the left of close\n",
    "\n",
    "# ( : push to stack\n",
    "# ) : pop\n",
    "# end: check if any items in stack. No item. valid\n",
    "# ((()))\n",
    "# ) "
   ]
  },
  {
   "cell_type": "code",
   "execution_count": null,
   "metadata": {},
   "outputs": [],
   "source": []
  },
  {
   "cell_type": "code",
   "execution_count": 29,
   "metadata": {},
   "outputs": [
    {
     "name": "stdout",
     "output_type": "stream",
     "text": [
      "((()))\n",
      "True\n",
      "(()()()())\n",
      "True\n",
      "((((((())\n",
      "we have ( left in stack\n",
      "False\n",
      "(()\n",
      "we have ( left in stack\n",
      "False\n",
      "()))\n",
      "we have ( left in stack\n",
      "False\n",
      "(()()(()\n",
      "we have ( left in stack\n",
      "False\n"
     ]
    }
   ],
   "source": [
    "def parChecker(symbolString):\n",
    "    print(symbolString)\n",
    "    s = Stack()\n",
    "    balanced = True        \n",
    "    for symbol in symbolString:\n",
    "        if symbol == \"(\":\n",
    "            s.push(symbol)\n",
    "        else: # we have )\n",
    "            if s.isEmpty():\n",
    "                balanced = False\n",
    "                break\n",
    "            else:\n",
    "                s.pop() # pop out a ( to match the ) we see.\n",
    "\n",
    "    if balanced and s.isEmpty():\n",
    "        return True\n",
    "    else: # balanced, s is not empty  ((((\n",
    "        print(\"we have ( left in stack\")\n",
    "        return False\n",
    "\n",
    "print(parChecker('((()))'))\n",
    "print(parChecker('(()()()())'))\n",
    "print(parChecker('((((((())'))\n",
    "print(parChecker('(()'))\n",
    "print(parChecker('()))'))\n",
    "print(parChecker('(()()(()'))\n"
   ]
  },
  {
   "cell_type": "code",
   "execution_count": null,
   "metadata": {},
   "outputs": [],
   "source": []
  },
  {
   "cell_type": "code",
   "execution_count": null,
   "metadata": {},
   "outputs": [],
   "source": []
  }
 ],
 "metadata": {
  "kernelspec": {
   "display_name": "Python 3",
   "language": "python",
   "name": "python3"
  },
  "language_info": {
   "codemirror_mode": {
    "name": "ipython",
    "version": 3
   },
   "file_extension": ".py",
   "mimetype": "text/x-python",
   "name": "python",
   "nbconvert_exporter": "python",
   "pygments_lexer": "ipython3",
   "version": "3.6.8"
  }
 },
 "nbformat": 4,
 "nbformat_minor": 2
}
