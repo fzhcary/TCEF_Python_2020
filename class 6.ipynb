{
 "cells": [
  {
   "cell_type": "markdown",
   "metadata": {},
   "source": [
    "# Search and Sort\n",
    "## Search"
   ]
  },
  {
   "cell_type": "code",
   "execution_count": 21,
   "metadata": {},
   "outputs": [
    {
     "data": {
      "text/plain": [
       "[53, 37, 46, 81, 78, 58, 10, 96]"
      ]
     },
     "execution_count": 21,
     "metadata": {},
     "output_type": "execute_result"
    }
   ],
   "source": [
    "\n",
    "nums = [53, 37, 46, 81, 78, 58, 10, 96]\n",
    "nums"
   ]
  },
  {
   "cell_type": "code",
   "execution_count": 22,
   "metadata": {},
   "outputs": [
    {
     "data": {
      "text/plain": [
       "True"
      ]
     },
     "execution_count": 22,
     "metadata": {},
     "output_type": "execute_result"
    }
   ],
   "source": [
    "10 in nums"
   ]
  },
  {
   "cell_type": "code",
   "execution_count": 23,
   "metadata": {},
   "outputs": [
    {
     "data": {
      "text/plain": [
       "False"
      ]
     },
     "execution_count": 23,
     "metadata": {},
     "output_type": "execute_result"
    }
   ],
   "source": [
    "12 in nums"
   ]
  },
  {
   "cell_type": "code",
   "execution_count": 24,
   "metadata": {},
   "outputs": [],
   "source": [
    "def my_in(nums, target):\n",
    "    for i in nums:\n",
    "        if i == target:\n",
    "            return True\n",
    "    return False"
   ]
  },
  {
   "cell_type": "code",
   "execution_count": 25,
   "metadata": {},
   "outputs": [
    {
     "data": {
      "text/plain": [
       "True"
      ]
     },
     "execution_count": 25,
     "metadata": {},
     "output_type": "execute_result"
    }
   ],
   "source": [
    "my_in(nums, 10)"
   ]
  },
  {
   "cell_type": "code",
   "execution_count": 26,
   "metadata": {},
   "outputs": [
    {
     "data": {
      "text/plain": [
       "False"
      ]
     },
     "execution_count": 26,
     "metadata": {},
     "output_type": "execute_result"
    }
   ],
   "source": [
    "my_in(nums, 12)"
   ]
  },
  {
   "cell_type": "code",
   "execution_count": null,
   "metadata": {},
   "outputs": [],
   "source": []
  },
  {
   "cell_type": "markdown",
   "metadata": {},
   "source": [
    "Question: To check if a number in the above list, is it possible to do it faster than than search all items?"
   ]
  },
  {
   "cell_type": "code",
   "execution_count": null,
   "metadata": {},
   "outputs": [],
   "source": []
  },
  {
   "cell_type": "code",
   "execution_count": null,
   "metadata": {},
   "outputs": [],
   "source": []
  },
  {
   "cell_type": "code",
   "execution_count": null,
   "metadata": {},
   "outputs": [],
   "source": []
  },
  {
   "cell_type": "code",
   "execution_count": null,
   "metadata": {},
   "outputs": [],
   "source": []
  },
  {
   "cell_type": "code",
   "execution_count": 27,
   "metadata": {},
   "outputs": [
    {
     "data": {
      "text/plain": [
       "[10, 37, 46, 53, 58, 78, 81, 96]"
      ]
     },
     "execution_count": 27,
     "metadata": {},
     "output_type": "execute_result"
    }
   ],
   "source": [
    "nums.sort()\n",
    "nums"
   ]
  },
  {
   "cell_type": "code",
   "execution_count": 5,
   "metadata": {},
   "outputs": [],
   "source": [
    "# give the above list, check if a target number, for example 50, is in the list or not.\n",
    "# Is there any faster way to search an item in a sorted array?"
   ]
  },
  {
   "cell_type": "markdown",
   "metadata": {},
   "source": [
    "Binary Search Algorithm\n",
    "* find the number in the middle position\n",
    "* compare number with the target, \n",
    "  * if number == target, return True\n",
    "  * elif number > target, continue search left side\n",
    "  * else continue search right side\n",
    "  * keep searching until ... \n",
    "   * stop criteria: length of the list is 1, cannot divide into left , right.\n",
    "\n",
    "why it is faster than search from left to right?\n",
    "    * Every step, one comparison and search range is divided in half.\n",
    "    * 100->50->25->12->6->3->1"
   ]
  },
  {
   "cell_type": "code",
   "execution_count": 6,
   "metadata": {},
   "outputs": [
    {
     "data": {
      "text/plain": [
       "6"
      ]
     },
     "execution_count": 6,
     "metadata": {},
     "output_type": "execute_result"
    }
   ],
   "source": [
    "import math\n",
    "int(math.log(100, 2))  # max. log(n, 2) steps.  O(N) -> O(lgN)"
   ]
  },
  {
   "cell_type": "code",
   "execution_count": 7,
   "metadata": {},
   "outputs": [
    {
     "data": {
      "text/plain": [
       "19"
      ]
     },
     "execution_count": 7,
     "metadata": {},
     "output_type": "execute_result"
    }
   ],
   "source": [
    "int(math.log(1000000, 2))"
   ]
  },
  {
   "cell_type": "code",
   "execution_count": 20,
   "metadata": {},
   "outputs": [
    {
     "ename": "IndentationError",
     "evalue": "expected an indented block (<ipython-input-20-a6e216baa3cb>, line 12)",
     "output_type": "error",
     "traceback": [
      "\u001b[0;36m  File \u001b[0;32m\"<ipython-input-20-a6e216baa3cb>\"\u001b[0;36m, line \u001b[0;32m12\u001b[0m\n\u001b[0;31m    else:\u001b[0m\n\u001b[0m       ^\u001b[0m\n\u001b[0;31mIndentationError\u001b[0m\u001b[0;31m:\u001b[0m expected an indented block\n"
     ]
    }
   ],
   "source": [
    "# [10, 37, 46, 53, 58, 78, 81, 96]\n",
    "def bsearch(nums, target):\n",
    "    # find out the element in the middle\n",
    "    size = len(nums) # 8\n",
    "    left, right = 0, size-1  # 0, 7\n",
    "    \n",
    "    # which one exactly in the middle doesn't matter. but we need an integer\n",
    "    mid = ( left + right ) // 2  # 3\n",
    "    if nums[mid] == target:\n",
    "        return True\n",
    "    elif nums[mid] > target:\n",
    "        pas\n",
    "        # think about how to search in left ???\n",
    "    else:\n",
    "        # search in the right, think about how ???\n",
    "    # think about the stop criteria\n",
    "    "
   ]
  },
  {
   "cell_type": "code",
   "execution_count": null,
   "metadata": {},
   "outputs": [],
   "source": []
  },
  {
   "cell_type": "code",
   "execution_count": null,
   "metadata": {},
   "outputs": [],
   "source": [
    "# 50 in nums\n",
    "# left = left  # 0\n",
    "# right = mid -1  # 2\n",
    "# mid = (left + right) //2  # 1"
   ]
  },
  {
   "cell_type": "code",
   "execution_count": null,
   "metadata": {},
   "outputs": [],
   "source": []
  },
  {
   "cell_type": "code",
   "execution_count": 36,
   "metadata": {},
   "outputs": [],
   "source": [
    "#  0   1   2   3   4    5   6   7\n",
    "# [10, 37, 46, 53, 58, 78, 81, 96]\n",
    "#  left        mid            right\n",
    "def bsearch(nums, target):\n",
    "    # find out the element in the middle\n",
    "    size = len(nums)\n",
    "    left, right = 0, size-1\n",
    "    if size == 0:\n",
    "        return False\n",
    "    \n",
    "    while True:\n",
    "        mid = ( left + right ) // 2\n",
    "        print(\"compare \", nums[mid], target)\n",
    "        if nums[mid] == target:\n",
    "            return True\n",
    "        elif nums[mid] > target:  \n",
    "            right = mid - 1\n",
    "        else:\n",
    "            left = mid + 1\n",
    "        \n",
    "        # in last loop, left, right, mid  2\n",
    "        if left > right:\n",
    "            return False"
   ]
  },
  {
   "cell_type": "code",
   "execution_count": 37,
   "metadata": {},
   "outputs": [
    {
     "name": "stdout",
     "output_type": "stream",
     "text": [
      "compare  53 50\n",
      "compare  37 50\n",
      "compare  46 50\n"
     ]
    },
    {
     "data": {
      "text/plain": [
       "False"
      ]
     },
     "execution_count": 37,
     "metadata": {},
     "output_type": "execute_result"
    }
   ],
   "source": [
    "bsearch(nums, 50)"
   ]
  },
  {
   "cell_type": "code",
   "execution_count": 38,
   "metadata": {},
   "outputs": [
    {
     "name": "stdout",
     "output_type": "stream",
     "text": [
      "compare  53 53\n"
     ]
    },
    {
     "data": {
      "text/plain": [
       "True"
      ]
     },
     "execution_count": 38,
     "metadata": {},
     "output_type": "execute_result"
    }
   ],
   "source": [
    "bsearch(nums, 53)"
   ]
  },
  {
   "cell_type": "code",
   "execution_count": 39,
   "metadata": {},
   "outputs": [
    {
     "name": "stdout",
     "output_type": "stream",
     "text": [
      "compare  53 46\n",
      "compare  37 46\n",
      "compare  46 46\n"
     ]
    },
    {
     "data": {
      "text/plain": [
       "True"
      ]
     },
     "execution_count": 39,
     "metadata": {},
     "output_type": "execute_result"
    }
   ],
   "source": [
    "bsearch(nums, 46)"
   ]
  },
  {
   "cell_type": "code",
   "execution_count": 40,
   "metadata": {},
   "outputs": [
    {
     "data": {
      "text/plain": [
       "False"
      ]
     },
     "execution_count": 40,
     "metadata": {},
     "output_type": "execute_result"
    }
   ],
   "source": [
    "bsearch([], 3)"
   ]
  },
  {
   "cell_type": "code",
   "execution_count": 14,
   "metadata": {},
   "outputs": [],
   "source": [
    "# more elegant way:\n",
    "def bsearch(nums, target):\n",
    "    # find out the element in the middle\n",
    "    size = len(nums)\n",
    "    left, right = 0, size-1\n",
    "    \n",
    "    while left <= right:\n",
    "        mid = ( left + right ) // 2\n",
    "        if nums[mid] == target:\n",
    "            return True\n",
    "        elif nums[mid] > target:\n",
    "            right = mid - 1\n",
    "        else:\n",
    "            left = mid + 1\n",
    "            \n",
    "    return False"
   ]
  },
  {
   "cell_type": "code",
   "execution_count": 15,
   "metadata": {},
   "outputs": [
    {
     "data": {
      "text/plain": [
       "False"
      ]
     },
     "execution_count": 15,
     "metadata": {},
     "output_type": "execute_result"
    }
   ],
   "source": [
    "bsearch([], 3)"
   ]
  },
  {
   "cell_type": "markdown",
   "metadata": {},
   "source": [
    "## Sort\n",
    "\n",
    "nums = [53, 37, 46, 81, 78, 58, 10, 96]\n",
    "\n",
    "if we don't use nums.sort()\n",
    "\n",
    "reason: understand how sort works internally.\n",
    "\n",
    "[img](https://puu.sh/vfi6a/e532309371.png)"
   ]
  },
  {
   "cell_type": "code",
   "execution_count": 43,
   "metadata": {},
   "outputs": [],
   "source": [
    "nums = [53, 37, 46, 81, 78, 58, 10, 96]\n",
    "# nums.sort()\n",
    "# print(nums)\n",
    "\n",
    "# [] [ 53, 37, 46 ...]"
   ]
  },
  {
   "cell_type": "markdown",
   "metadata": {},
   "source": [
    "Algorithm\n",
    "* just like sort the playing cars\n",
    "* partition list into two groups: (53), ( 37, 46, ... )\n",
    "* insert 37 into first group\n",
    "* (37, 53), ( 46, 81, ...)\n",
    "* insert 46 \n",
    "* (37, 46, 50), ( 81, 78, ... )\n",
    "* keep doing this until ???\n",
    "\n",
    "think about start of the working condition, end condition and change in each step"
   ]
  },
  {
   "cell_type": "code",
   "execution_count": 44,
   "metadata": {},
   "outputs": [
    {
     "data": {
      "text/plain": [
       "[53, 37, 46, 81, 78, 58, 10, 96]"
      ]
     },
     "execution_count": 44,
     "metadata": {},
     "output_type": "execute_result"
    }
   ],
   "source": [
    "nums"
   ]
  },
  {
   "cell_type": "code",
   "execution_count": 46,
   "metadata": {},
   "outputs": [
    {
     "data": {
      "text/plain": [
       "[53, 37]"
      ]
     },
     "execution_count": 46,
     "metadata": {},
     "output_type": "execute_result"
    }
   ],
   "source": [
    "nums[0:2]"
   ]
  },
  {
   "cell_type": "code",
   "execution_count": 47,
   "metadata": {},
   "outputs": [
    {
     "data": {
      "text/plain": [
       "[53, 37]"
      ]
     },
     "execution_count": 47,
     "metadata": {},
     "output_type": "execute_result"
    }
   ],
   "source": [
    "nums[:2]"
   ]
  },
  {
   "cell_type": "code",
   "execution_count": 48,
   "metadata": {},
   "outputs": [
    {
     "data": {
      "text/plain": [
       "[58, 10, 96]"
      ]
     },
     "execution_count": 48,
     "metadata": {},
     "output_type": "execute_result"
    }
   ],
   "source": [
    "nums[5:8]"
   ]
  },
  {
   "cell_type": "code",
   "execution_count": 50,
   "metadata": {},
   "outputs": [
    {
     "data": {
      "text/plain": [
       "[58, 10, 96]"
      ]
     },
     "execution_count": 50,
     "metadata": {},
     "output_type": "execute_result"
    }
   ],
   "source": [
    "nums[-3:]  # nums[size-3: size]    size = len(nums)"
   ]
  },
  {
   "cell_type": "code",
   "execution_count": 51,
   "metadata": {},
   "outputs": [],
   "source": [
    "# ( 37, 46, 53), (81, 78, ....)\n",
    "def insertion(nums, target):\n",
    "    \"\"\" insert target into a sorted list nums, return the new list \"\"\"\n",
    "    for index, num in enumerate(nums):\n",
    "        if num <= target:  # (37, 53),  (46, ...)\n",
    "            continue\n",
    "        else:\n",
    "            # insert target into list nums position at index\n",
    "            nums.insert(index, target)\n",
    "            # another way: nums[:index] + [target] + nums[index:]\n",
    "            return nums\n",
    "    \n",
    "    # think why we reach here???\n",
    "    nums.append(target)\n",
    "    return nums\n",
    "\n",
    "def insertion_sort(nums):\n",
    "    \"\"\" give a list as nums, return a sorted list\"\"\"\n",
    "    left, right = nums[:1], nums[1:]\n",
    "    \n",
    "    # loop through 2nd item till the last\n",
    "    for i in right:\n",
    "        left = insertion(left, i)\n",
    "    return left"
   ]
  },
  {
   "cell_type": "code",
   "execution_count": 52,
   "metadata": {},
   "outputs": [
    {
     "data": {
      "text/plain": [
       "[10, 37, 46, 53, 58, 78, 81, 96]"
      ]
     },
     "execution_count": 52,
     "metadata": {},
     "output_type": "execute_result"
    }
   ],
   "source": [
    "insertion_sort([53, 37, 46, 81, 78, 58, 10, 96])"
   ]
  },
  {
   "cell_type": "code",
   "execution_count": 53,
   "metadata": {},
   "outputs": [
    {
     "data": {
      "text/plain": [
       "[3]"
      ]
     },
     "execution_count": 53,
     "metadata": {},
     "output_type": "execute_result"
    }
   ],
   "source": [
    "insertion_sort([3])"
   ]
  },
  {
   "cell_type": "code",
   "execution_count": 54,
   "metadata": {},
   "outputs": [
    {
     "data": {
      "text/plain": [
       "[]"
      ]
     },
     "execution_count": 54,
     "metadata": {},
     "output_type": "execute_result"
    }
   ],
   "source": [
    "insertion_sort([])"
   ]
  },
  {
   "cell_type": "code",
   "execution_count": null,
   "metadata": {},
   "outputs": [],
   "source": []
  },
  {
   "cell_type": "markdown",
   "metadata": {},
   "source": [
    "Summary\n",
    "* search and sort are common algorithms\n",
    "* think about algorithm first\n",
    "* use a small example\n",
    "* think through start, end conditions,  and changes in each step\n",
    "* after complete, review algorithm with edge cases"
   ]
  },
  {
   "cell_type": "code",
   "execution_count": null,
   "metadata": {},
   "outputs": [],
   "source": []
  }
 ],
 "metadata": {
  "kernelspec": {
   "display_name": "Python 3",
   "language": "python",
   "name": "python3"
  },
  "language_info": {
   "codemirror_mode": {
    "name": "ipython",
    "version": 3
   },
   "file_extension": ".py",
   "mimetype": "text/x-python",
   "name": "python",
   "nbconvert_exporter": "python",
   "pygments_lexer": "ipython3",
   "version": "3.6.8"
  }
 },
 "nbformat": 4,
 "nbformat_minor": 2
}
