{
 "cells": [
  {
   "cell_type": "markdown",
   "metadata": {},
   "source": [
    "<h1 id=\"tocheading\">Table of Contents</h1>\n",
    "<div id=\"toc\"></div>"
   ]
  },
  {
   "cell_type": "code",
   "execution_count": 2,
   "metadata": {},
   "outputs": [
    {
     "data": {
      "application/javascript": [
       "$.getScript('https://kmahelona.github.io/ipython_notebook_goodies/ipython_notebook_toc.js')"
      ],
      "text/plain": [
       "<IPython.core.display.Javascript object>"
      ]
     },
     "metadata": {},
     "output_type": "display_data"
    }
   ],
   "source": [
    "%%javascript\n",
    "$.getScript('https://kmahelona.github.io/ipython_notebook_goodies/ipython_notebook_toc.js')"
   ]
  },
  {
   "cell_type": "markdown",
   "metadata": {},
   "source": [
    "## Reading Assignments"
   ]
  },
  {
   "cell_type": "markdown",
   "metadata": {},
   "source": [
    "https://docs.python.org/3/tutorial/introduction.html\n",
    "\n",
    "https://docs.python.org/3/reference/lexical_analysis.html"
   ]
  },
  {
   "cell_type": "markdown",
   "metadata": {},
   "source": [
    "### World View From a Computer Perspective\n",
    "\n",
    "* We understand the world by 5 senses: see, hear, touch, taste, smell\n",
    "\n",
    "* we describe/represent the world by words/text, numbers, images, audio, videos.\n",
    "\n",
    "* Guess how does computer understand and represent the world?"
   ]
  },
  {
   "cell_type": "markdown",
   "metadata": {},
   "source": [
    "### Numbers Representation\n",
    "\n",
    "Computer use switches/gates to represent 0 and 1\n",
    "\n",
    "http://computing-concepts.cs.uri.edu/index.php/Data_Representation_For_Computing"
   ]
  },
  {
   "cell_type": "code",
   "execution_count": 3,
   "metadata": {},
   "outputs": [
    {
     "name": "stdout",
     "output_type": "stream",
     "text": [
      "     dec      bin      oct      hex\n",
      "----------------------------------------\n",
      "       0      0b0      0o0      0x0\n",
      "       1      0b1      0o1      0x1\n",
      "       2     0b10      0o2      0x2\n",
      "       3     0b11      0o3      0x3\n",
      "       4    0b100      0o4      0x4\n",
      "       5    0b101      0o5      0x5\n",
      "       6    0b110      0o6      0x6\n",
      "       7    0b111      0o7      0x7\n",
      "       8   0b1000     0o10      0x8\n",
      "       9   0b1001     0o11      0x9\n",
      "      10   0b1010     0o12      0xa\n",
      "      11   0b1011     0o13      0xb\n",
      "      12   0b1100     0o14      0xc\n",
      "      13   0b1101     0o15      0xd\n",
      "      14   0b1110     0o16      0xe\n",
      "      15   0b1111     0o17      0xf\n",
      "      16  0b10000     0o20     0x10\n",
      "      17  0b10001     0o21     0x11\n",
      "      18  0b10010     0o22     0x12\n",
      "      19  0b10011     0o23     0x13\n"
     ]
    }
   ],
   "source": [
    "print(\"{:>8} {:>8} {:>8} {:>8}\".format('dec', 'bin', 'oct', 'hex'))\n",
    "print(\"-\"*40)\n",
    "for i in range(20):\n",
    "    print(\"{:>8} {:>8} {:>8} {:>8}\".format(i, bin(i), oct(i), hex(i)))"
   ]
  },
  {
   "cell_type": "code",
   "execution_count": 16,
   "metadata": {},
   "outputs": [
    {
     "data": {
      "text/plain": [
       "'0b101'"
      ]
     },
     "execution_count": 16,
     "metadata": {},
     "output_type": "execute_result"
    }
   ],
   "source": [
    "# Example: See how 5 is Represented \n",
    "# ... 8 4 2 1\n",
    "#     0 1 0 1\n",
    "#       4 + 1 => 5\n",
    "bin(5)"
   ]
  },
  {
   "cell_type": "code",
   "execution_count": 23,
   "metadata": {},
   "outputs": [
    {
     "data": {
      "text/plain": [
       "5"
      ]
     },
     "execution_count": 23,
     "metadata": {},
     "output_type": "execute_result"
    }
   ],
   "source": [
    "0b101"
   ]
  },
  {
   "cell_type": "markdown",
   "metadata": {},
   "source": [
    "### How does computer store data?\n",
    "\n",
    "hard disks, memory, registers, etc\n",
    "\n",
    "* variable is a container(e.g. box), we can store data in variables\n",
    "* later we can fetch data from variable by refer to variable's name\n",
    "* data are **remembered** in the computer memory until power cycled\n",
    "* python variable name can start with letters ( a-z, A-Z ), _ and made up by numbers 0-9"
   ]
  },
  {
   "cell_type": "markdown",
   "metadata": {},
   "source": [
    "### How Text are represented?\n",
    "\n",
    "\"Hellow World!\" : A sentence is formed by words, and each word is made up by characters/char\n",
    "\n",
    "Computer represent each char by ASCII code: \n",
    "\n",
    "(ASCII stands for American Standard Code for Information Interchange)"
   ]
  },
  {
   "cell_type": "raw",
   "metadata": {},
   "source": [
    "ASCII Table\n",
    "\n",
    "Dec  = Decimal Value\n",
    "Char = Character\n",
    "\n",
    "'5' has the int value 53\n",
    "if we write '5'-'0' it evaluates to 53-48, or the int 5\n",
    "if we write char c = 'B'+32; then c stores 'b'\n",
    "\n",
    "\n",
    "Dec  Char                           Dec  Char     Dec  Char     Dec  Char\n",
    "---------                           ---------     ---------     ----------\n",
    "  0  NUL (null)                      32  SPACE     64  @         96  `\n",
    "  1  SOH (start of heading)          33  !         65  A         97  a\n",
    "  2  STX (start of text)             34  \"         66  B         98  b\n",
    "  3  ETX (end of text)               35  #         67  C         99  c\n",
    "  4  EOT (end of transmission)       36  $         68  D        100  d\n",
    "  5  ENQ (enquiry)                   37  %         69  E        101  e\n",
    "  6  ACK (acknowledge)               38  &         70  F        102  f\n",
    "  7  BEL (bell)                      39  '         71  G        103  g\n",
    "  8  BS  (backspace)                 40  (         72  H        104  h\n",
    "  9  TAB (horizontal tab)            41  )         73  I        105  i\n",
    " 10  LF  (NL line feed, new line)    42  *         74  J        106  j\n",
    " 11  VT  (vertical tab)              43  +         75  K        107  k\n",
    " 12  FF  (NP form feed, new page)    44  ,         76  L        108  l\n",
    " 13  CR  (carriage return)           45  -         77  M        109  m\n",
    " 14  SO  (shift out)                 46  .         78  N        110  n\n",
    " 15  SI  (shift in)                  47  /         79  O        111  o\n",
    " 16  DLE (data link escape)          48  0         80  P        112  p\n",
    " 17  DC1 (device control 1)          49  1         81  Q        113  q\n",
    " 18  DC2 (device control 2)          50  2         82  R        114  r\n",
    " 19  DC3 (device control 3)          51  3         83  S        115  s\n",
    " 20  DC4 (device control 4)          52  4         84  T        116  t\n",
    " 21  NAK (negative acknowledge)      53  5         85  U        117  u\n",
    " 22  SYN (synchronous idle)          54  6         86  V        118  v\n",
    " 23  ETB (end of trans. block)       55  7         87  W        119  w\n",
    " 24  CAN (cancel)                    56  8         88  X        120  x\n",
    " 25  EM  (end of medium)             57  9         89  Y        121  y\n",
    " 26  SUB (substitute)                58  :         90  Z        122  z\n",
    " 27  ESC (escape)                    59  ;         91  [        123  {\n",
    " 28  FS  (file separator)            60  <         92  \\        124  |\n",
    " 29  GS  (group separator)           61  =         93  ]        125  }\n",
    " 30  RS  (record separator)          62  >         94  ^        126  ~\n",
    " 31  US  (unit separator)            63  ?         95  _        127  DEL"
   ]
  },
  {
   "cell_type": "markdown",
   "metadata": {},
   "source": [
    "#### Convert between string and ascii code"
   ]
  },
  {
   "cell_type": "code",
   "execution_count": 29,
   "metadata": {},
   "outputs": [
    {
     "data": {
      "text/plain": [
       "'A'"
      ]
     },
     "execution_count": 29,
     "metadata": {},
     "output_type": "execute_result"
    }
   ],
   "source": [
    "chr(0x41)"
   ]
  },
  {
   "cell_type": "code",
   "execution_count": 30,
   "metadata": {},
   "outputs": [
    {
     "data": {
      "text/plain": [
       "98"
      ]
     },
     "execution_count": 30,
     "metadata": {},
     "output_type": "execute_result"
    }
   ],
   "source": [
    "ord('b')"
   ]
  },
  {
   "cell_type": "code",
   "execution_count": 31,
   "metadata": {},
   "outputs": [
    {
     "data": {
      "text/plain": [
       "str"
      ]
     },
     "execution_count": 31,
     "metadata": {},
     "output_type": "execute_result"
    }
   ],
   "source": [
    "type('A')"
   ]
  },
  {
   "cell_type": "markdown",
   "metadata": {},
   "source": [
    "### How to quote text to form a string?\n",
    "\n",
    "* single quote\n",
    "* double quote\n",
    "* triple quote"
   ]
  },
  {
   "cell_type": "code",
   "execution_count": 33,
   "metadata": {
    "collapsed": true
   },
   "outputs": [],
   "source": [
    "sentence = \"String can be double quoted.\""
   ]
  },
  {
   "cell_type": "code",
   "execution_count": 34,
   "metadata": {},
   "outputs": [
    {
     "data": {
      "text/plain": [
       "True"
      ]
     },
     "execution_count": 34,
     "metadata": {},
     "output_type": "execute_result"
    }
   ],
   "source": [
    "# single quote, double quote are used to delimit the string, they are the same\n",
    "\"abc\" == 'abc'  # == is an operator to check equality"
   ]
  },
  {
   "cell_type": "code",
   "execution_count": 35,
   "metadata": {},
   "outputs": [
    {
     "data": {
      "text/plain": [
       "True"
      ]
     },
     "execution_count": 35,
     "metadata": {},
     "output_type": "execute_result"
    }
   ],
   "source": [
    "0b101 == 5"
   ]
  },
  {
   "cell_type": "code",
   "execution_count": 36,
   "metadata": {},
   "outputs": [
    {
     "data": {
      "text/plain": [
       "\"It's wonderful.\""
      ]
     },
     "execution_count": 36,
     "metadata": {},
     "output_type": "execute_result"
    }
   ],
   "source": [
    "# \", ' can be used together\n",
    "\"It's wonderful.\""
   ]
  },
  {
   "cell_type": "code",
   "execution_count": 39,
   "metadata": {},
   "outputs": [
    {
     "data": {
      "text/plain": [
       "\"Without double quotes, you have to use back slash, see, it's inconvenient!\""
      ]
     },
     "execution_count": 39,
     "metadata": {},
     "output_type": "execute_result"
    }
   ],
   "source": [
    "'Without double quotes, you have to use back slash, see, it\\'s inconvenient!'"
   ]
  },
  {
   "cell_type": "code",
   "execution_count": 37,
   "metadata": {},
   "outputs": [
    {
     "data": {
      "text/plain": [
       "'Double quotes \" can be quoted in single quote as well.'"
      ]
     },
     "execution_count": 37,
     "metadata": {},
     "output_type": "execute_result"
    }
   ],
   "source": [
    "'Double quotes \" can be quoted in single quote as well.'"
   ]
  },
  {
   "cell_type": "code",
   "execution_count": 38,
   "metadata": {},
   "outputs": [
    {
     "ename": "SyntaxError",
     "evalue": "invalid syntax (<ipython-input-38-f124cdc74eab>, line 1)",
     "output_type": "error",
     "traceback": [
      "\u001b[0;36m  File \u001b[0;32m\"<ipython-input-38-f124cdc74eab>\"\u001b[0;36m, line \u001b[0;32m1\u001b[0m\n\u001b[0;31m    \"But they can't mix and match\"...'\u001b[0m\n\u001b[0m                                    ^\u001b[0m\n\u001b[0;31mSyntaxError\u001b[0m\u001b[0;31m:\u001b[0m invalid syntax\n"
     ]
    }
   ],
   "source": [
    "\"But they can't mix and match\"...'"
   ]
  },
  {
   "cell_type": "code",
   "execution_count": 41,
   "metadata": {},
   "outputs": [
    {
     "data": {
      "text/plain": [
       "'Python can even quote a block of text\\nspanning across\\nmultiple lines.\\nEach time you hit carriage return,\\na new line char is inserted'"
      ]
     },
     "execution_count": 41,
     "metadata": {},
     "output_type": "execute_result"
    }
   ],
   "source": [
    "\"\"\"Python can even quote a block of text\n",
    "spanning across\n",
    "multiple lines.\n",
    "Each time you hit carriage return,\n",
    "a new line char is inserted\"\"\""
   ]
  },
  {
   "cell_type": "markdown",
   "metadata": {},
   "source": [
    "### More on Date Types\n",
    "\n",
    "* infinity\n",
    "* type conversion"
   ]
  },
  {
   "cell_type": "code",
   "execution_count": 17,
   "metadata": {},
   "outputs": [
    {
     "data": {
      "text/plain": [
       "inf"
      ]
     },
     "execution_count": 17,
     "metadata": {},
     "output_type": "execute_result"
    }
   ],
   "source": [
    "# python support represent infinity\n",
    "float('inf')"
   ]
  },
  {
   "cell_type": "code",
   "execution_count": 16,
   "metadata": {},
   "outputs": [
    {
     "name": "stdout",
     "output_type": "stream",
     "text": [
      "1 converts to True\n",
      "0 converts to False\n",
      "1.2 converts to True\n",
      "'hello' converts to True\n",
      "[] converts to False\n",
      "'' converts to False\n",
      "None converts to False\n",
      "[1] converts to True\n"
     ]
    }
   ],
   "source": [
    "# how does different data type evaluate to bool value?\n",
    "def check_bool_value(x):\n",
    "    if x:\n",
    "        print(\"{} converts to True\".format(repr(x)))\n",
    "    else:\n",
    "        print(\"{} converts to False\".format(repr(x)))\n",
    "        \n",
    "# for loop\n",
    "items = [1, 0, 1.2, 'hello', [], '', None, [1] ]\n",
    "for item in items:\n",
    "    check_bool_value(item)"
   ]
  },
  {
   "cell_type": "code",
   "execution_count": 4,
   "metadata": {},
   "outputs": [
    {
     "data": {
      "text/plain": [
       "'123'"
      ]
     },
     "execution_count": 4,
     "metadata": {},
     "output_type": "execute_result"
    }
   ],
   "source": [
    "# Convert int to str\n",
    "str(123)"
   ]
  },
  {
   "cell_type": "code",
   "execution_count": 5,
   "metadata": {},
   "outputs": [
    {
     "data": {
      "text/plain": [
       "'3.1415926'"
      ]
     },
     "execution_count": 5,
     "metadata": {},
     "output_type": "execute_result"
    }
   ],
   "source": [
    "str(3.1415926)"
   ]
  },
  {
   "cell_type": "code",
   "execution_count": 6,
   "metadata": {},
   "outputs": [
    {
     "data": {
      "text/plain": [
       "123"
      ]
     },
     "execution_count": 6,
     "metadata": {},
     "output_type": "execute_result"
    }
   ],
   "source": [
    "# Convert str to int\n",
    "int(\"123\")"
   ]
  },
  {
   "cell_type": "code",
   "execution_count": 8,
   "metadata": {},
   "outputs": [
    {
     "data": {
      "text/plain": [
       "5.0"
      ]
     },
     "execution_count": 8,
     "metadata": {},
     "output_type": "execute_result"
    }
   ],
   "source": [
    "# convert string to float\n",
    "float(\"5.0\")"
   ]
  },
  {
   "cell_type": "markdown",
   "metadata": {},
   "source": [
    "## Quiz"
   ]
  },
  {
   "cell_type": "raw",
   "metadata": {},
   "source": [
    "Quiz 1\n",
    "\n",
    "what boolean value ( True, False) will the following evaluate to:\n",
    "\n",
    "‘this is a sentence’, \n",
    "[[]], \n",
    "[‘’], \n",
    "3.5"
   ]
  },
  {
   "cell_type": "raw",
   "metadata": {},
   "source": [
    "Quiz 2\n",
    "\n",
    "Find out What the value of  1/7, 2/7, 3/7, 4/7, 5/7, 6/7?\n",
    "\n",
    "Can you find out any pattern?"
   ]
  },
  {
   "cell_type": "code",
   "execution_count": 12,
   "metadata": {
    "collapsed": true
   },
   "outputs": [],
   "source": [
    "# Quiz 3\n",
    "# Change \"Python is awesome\" to \"XXX is awesome\",  XXX being your name\n",
    "s = \"Python is awesome\""
   ]
  },
  {
   "cell_type": "code",
   "execution_count": 9,
   "metadata": {
    "collapsed": true
   },
   "outputs": [],
   "source": [
    "# Quiz 4\n",
    "# Print out ascii code for each char in \"Python\", "
   ]
  },
  {
   "cell_type": "code",
   "execution_count": null,
   "metadata": {
    "collapsed": true
   },
   "outputs": [],
   "source": []
  }
 ],
 "metadata": {
  "kernelspec": {
   "display_name": "Python 3",
   "language": "python",
   "name": "python3"
  },
  "language_info": {
   "codemirror_mode": {
    "name": "ipython",
    "version": 3
   },
   "file_extension": ".py",
   "mimetype": "text/x-python",
   "name": "python",
   "nbconvert_exporter": "python",
   "pygments_lexer": "ipython3",
   "version": "3.6.3"
  }
 },
 "nbformat": 4,
 "nbformat_minor": 2
}
