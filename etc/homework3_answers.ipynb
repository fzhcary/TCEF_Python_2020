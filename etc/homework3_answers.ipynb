{
 "cells": [
  {
   "cell_type": "raw",
   "metadata": {},
   "source": [
    "watch video, we will go over list, dict, set, tuple in next class\n",
    "\n",
    "link https://www.youtube.com/watch?v=bY6m6_IIN94&list=PLi01XoE8jYohWFPpC17Z-wWhPOSuh8Er-\n",
    "Lists (Video 14)\n",
    "Sets (Video 13)\n",
    "Dictionary ( Video 15)\n",
    "Tuples (Videos 16)\n",
    "\n",
    "\n",
    "1. Write a Python function to compute the greatest common divisor (GCD) of two positive integers.\n",
    "gcd(4, 6) = 2\n",
    "def gcd(a, b):\n",
    "    ...\n",
    "\n",
    "2. Write a Python function to get the least common multiple (LCM) of two positive integers by calling the GCD function\n",
    "lcm(4, 6) = 4*6 // gcd(4,6) = 12\n",
    "def lcm(a, b):\n",
    "    c = gcd(a, b)\n",
    "    ...\n",
    "\n",
    "3. write a function to take 3 numbers and check they can form a triangle. If yes, return True, otherwise return False\n",
    "a , b, c\n",
    "sorted()\n",
    "\n",
    "4. ( optional ) write a function to check if given string is palindrome\n",
    "\n",
    "* A palindrome is a word, phrase, number or sequence of words that reads the same backward as forward. P\n",
    "unctuation and spaces between the words or lettering is allowed.\n",
    "* palindrome example: dad, Level, Civic, Redder\n",
    "* 'A man, a plan, a canal, Panama!'  is another famous palidrome\n",
    "\n",
    "hint:\n",
    "- use isalpha to check if char is a char, not punctuation\n",
    "- use lower to convert char to lowercase\n",
    "- it might be easier to use 'while' instead of 'for', but you could use either\n",
    "\n",
    "5. tell me the output of the following program.\n",
    "\n",
    "5.1\n",
    "def swap(a, b):\n",
    "    a, b = b, a\n",
    "\n",
    "a, b = 3, 5\n",
    "swap(a, b)\n",
    "print(a, b)\n",
    "\n",
    "5.2\n",
    "def swap():\n",
    "    global a, b\n",
    "    a, b = b, a\n",
    "\n",
    "a, b = 3, 5\n",
    "swap()\n",
    "print(a, b)\n",
    "\n",
    "5.3\n",
    "def swap(a, b):\n",
    "    return b, a\n",
    "\n",
    "a, b = 3, 5\n",
    "a, b = swap(a, b)\n",
    "print(a, b)\n",
    "\n",
    "6. write a program to prove the following hypotheis works for all n in range(1, 10)\n",
    "1**3 + 2**3 + ...n**3 = (1+2+ .. +n) ** 2\n",
    "\n",
    "7. Give a number greater than 1, if it is even, divide by 2. else multiply by 3 and plus 1.\n",
    "if it becomes 1. stop. example\n",
    "\n",
    "2 -> 2/2=1\n",
    "3 -> 3*3 + 1=10 -> 5 -> 16 -> 8 -> 4 -> 2-> 1\n",
    "\n",
    "Write a program to prove, for all numbers in range (2, 100), it will ends up at 1.\n",
    "\n"
   ]
  },
  {
   "cell_type": "code",
   "execution_count": 1,
   "metadata": {},
   "outputs": [],
   "source": [
    "def is_triangle(a, b, c):\n",
    "    a, b, c = sorted([a, b, c])\n",
    "    return a + b > c"
   ]
  },
  {
   "cell_type": "code",
   "execution_count": 2,
   "metadata": {},
   "outputs": [
    {
     "data": {
      "text/plain": [
       "False"
      ]
     },
     "execution_count": 2,
     "metadata": {},
     "output_type": "execute_result"
    }
   ],
   "source": [
    "is_triangle(1,2,3)"
   ]
  },
  {
   "cell_type": "code",
   "execution_count": 3,
   "metadata": {},
   "outputs": [
    {
     "data": {
      "text/plain": [
       "True"
      ]
     },
     "execution_count": 3,
     "metadata": {},
     "output_type": "execute_result"
    }
   ],
   "source": [
    "is_triangle(3, 4, 5)"
   ]
  },
  {
   "cell_type": "code",
   "execution_count": null,
   "metadata": {},
   "outputs": [],
   "source": []
  }
 ],
 "metadata": {
  "kernelspec": {
   "display_name": "Python 3",
   "language": "python",
   "name": "python3"
  },
  "language_info": {
   "codemirror_mode": {
    "name": "ipython",
    "version": 3
   },
   "file_extension": ".py",
   "mimetype": "text/x-python",
   "name": "python",
   "nbconvert_exporter": "python",
   "pygments_lexer": "ipython3",
   "version": "3.6.8"
  }
 },
 "nbformat": 4,
 "nbformat_minor": 2
}
