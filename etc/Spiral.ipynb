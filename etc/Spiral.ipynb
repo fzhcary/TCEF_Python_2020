{
 "cells": [
  {
   "cell_type": "code",
   "execution_count": 21,
   "metadata": {},
   "outputs": [],
   "source": [
    "# give a matrix of numbers\n",
    "# return all elements of the matrix in spiral order\n",
    "\n",
    "# Example:\n",
    "# input:\n",
    "# 1 2 3\n",
    "# 4 5 6\n",
    "# 7 8 9\n",
    "#\n",
    "# output: 1 2 3 6 9 8 7 4 5"
   ]
  },
  {
   "cell_type": "code",
   "execution_count": 28,
   "metadata": {},
   "outputs": [],
   "source": [
    "def spiral(a):\n",
    "    n = len(a)\n",
    "    i , j = 0, 0\n",
    "    for step in range(n-1, 0, -2):\n",
    "        # right n -1 steps\n",
    "        for k in range(step):\n",
    "            print(a[i][j], end=' ')\n",
    "            j += 1\n",
    "            \n",
    "        # down n -1 steps\n",
    "        for k in range(step):\n",
    "            print(a[i][j], end=' ')\n",
    "            i += 1\n",
    "            \n",
    "        # left n-1 steps\n",
    "        for k in range(step):\n",
    "            print(a[i][j], end=' ')\n",
    "            j -= 1\n",
    "            \n",
    "        # up n-1 steps\n",
    "        for k in range(step):\n",
    "            print(a[i][j], end=' ')\n",
    "            i -= 1  # the last step we didn't print out\n",
    "            \n",
    "        # reposition for next round\n",
    "        i += 1\n",
    "        j += 1\n",
    "        \n",
    "        if n % 2 == 1:\n",
    "            print(a[i][j])\n"
   ]
  },
  {
   "cell_type": "code",
   "execution_count": 29,
   "metadata": {},
   "outputs": [
    {
     "name": "stdout",
     "output_type": "stream",
     "text": [
      "  1   2   3 \n",
      "\n",
      "  4   5   6 \n",
      "\n",
      "  7   8   9 \n",
      "\n",
      "1 2 3 6 9 8 7 4 5\n"
     ]
    }
   ],
   "source": [
    "def test(spiral, n):\n",
    "    # build a matrix\n",
    "    a = [ [ 0 for j in range(n) ] for i in range(n) ]\n",
    "    x = 1\n",
    "    for i in range(n):\n",
    "        for j in range(n):\n",
    "            a[i][j] = x\n",
    "            x += 1\n",
    "            \n",
    "    for i in a:\n",
    "        for j in i:\n",
    "            print('{:>3}'.format(j), end=' ')\n",
    "        print('\\n')\n",
    "    spiral(a)\n",
    "\n",
    "test(spiral, 3)"
   ]
  },
  {
   "cell_type": "code",
   "execution_count": 30,
   "metadata": {},
   "outputs": [],
   "source": [
    "def spiral2(a):\n",
    "    m = len(a)\n",
    "    n = len(a[0])\n",
    "\n",
    "    directions = [(0, 1), (1, 0), (0, -1), (-1, 0)]\n",
    "\n",
    "    i, j = 0, 0\n",
    "\n",
    "    d = 0\n",
    "\n",
    "    for step in range(m * n):\n",
    "        print(a[i][j], end=' ')\n",
    "        a[i][j] = None\n",
    "\n",
    "        # move a step forward, check if it is out of border or \n",
    "        # we have visited. if yes, change direction\n",
    "        di, dj = directions[d]\n",
    "        if i+di == m or j+dj == n or i+di == -1 or j+dj == -1 or a[i + di][j + dj] is None:\n",
    "            d = (d + 1) % 4\n",
    "            di, dj = directions[d]\n",
    "\n",
    "        i, j = i + di, j + dj\n",
    "\n",
    "    print('\\n')\n",
    "\n",
    "\n",
    "# spiral([\n",
    "#     [1, 2, 3],\n",
    "#     [4, 5, 6],\n",
    "#     [7, 8, 9]\n",
    "# ])\n",
    "\n",
    "# spiral([\n",
    "#     [1, 2, 3, 4],\n",
    "#     [5, 6, 7, 8],\n",
    "#     [9, 10, 11, 12]\n",
    "# ])"
   ]
  },
  {
   "cell_type": "code",
   "execution_count": 27,
   "metadata": {},
   "outputs": [
    {
     "name": "stdout",
     "output_type": "stream",
     "text": [
      "  1   2   3 \n",
      "\n",
      "  4   5   6 \n",
      "\n",
      "  7   8   9 \n",
      "\n",
      "1 2 3 6 9 8 7 4 5 \n",
      "\n"
     ]
    }
   ],
   "source": [
    "test(spiral2, 3)"
   ]
  },
  {
   "cell_type": "code",
   "execution_count": null,
   "metadata": {},
   "outputs": [],
   "source": []
  }
 ],
 "metadata": {
  "kernelspec": {
   "display_name": "Python 3",
   "language": "python",
   "name": "python3"
  },
  "language_info": {
   "codemirror_mode": {
    "name": "ipython",
    "version": 3
   },
   "file_extension": ".py",
   "mimetype": "text/x-python",
   "name": "python",
   "nbconvert_exporter": "python",
   "pygments_lexer": "ipython3",
   "version": "3.7.3"
  }
 },
 "nbformat": 4,
 "nbformat_minor": 2
}
