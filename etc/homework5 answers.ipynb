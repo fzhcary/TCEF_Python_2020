{
 "cells": [
  {
   "cell_type": "raw",
   "metadata": {},
   "source": [
    "1. Use the Queue from class 5\n",
    "a. add the following items into the queue: 10, 20, 30\n",
    "b. change the __str__ method, to print the result like this ’10-20-30’\n",
    "c. pop all the items from the queue\n",
    "d. print the queue\n",
    " \n",
    "2. Use the Stack from class 5\n",
    "a. add the following items into the queue: 10, 20, 30\n",
    "b. change the __str__ method, to print the result like this ’10>20>30’\n",
    "c. pop all the items\n",
    "d. print the stack\n",
    " \n",
    "3. write a function to take a str of postfix and calculate the result and return it.\n",
    "A postfix is a formula that has two operands list first, operator list last.  operand and operator are separated by space.\n",
    " \n",
    "like this\n",
    "“3 4 + 5 /“\n",
    "the result should be 3 + 4 -> 7, 7 / 5 -> 1.4, so return 1.4"
   ]
  },
  {
   "cell_type": "code",
   "execution_count": 2,
   "metadata": {},
   "outputs": [],
   "source": [
    "class Queue:\n",
    "    def __init__(self, data=None):\n",
    "        self.data = data or []\n",
    "        \n",
    "    def push(self, item):\n",
    "        self.data.append(item)\n",
    "        \n",
    "    def pop(self):\n",
    "        return self.data.pop(0) # list.pop(0) give first item\n",
    "    \n",
    "    def isEmpty(self):\n",
    "        return len(self.data)==0\n",
    "    \n",
    "    def __str__(self):\n",
    "        # how you represent the class\n",
    "        return str(self.data)"
   ]
  },
  {
   "cell_type": "code",
   "execution_count": 3,
   "metadata": {},
   "outputs": [],
   "source": [
    "q = Queue([10,20,30])"
   ]
  },
  {
   "cell_type": "code",
   "execution_count": 4,
   "metadata": {},
   "outputs": [
    {
     "name": "stdout",
     "output_type": "stream",
     "text": [
      "[10, 20, 30]\n"
     ]
    }
   ],
   "source": [
    "print(q)"
   ]
  },
  {
   "cell_type": "code",
   "execution_count": 5,
   "metadata": {},
   "outputs": [],
   "source": [
    "q = Queue()"
   ]
  },
  {
   "cell_type": "code",
   "execution_count": 6,
   "metadata": {},
   "outputs": [],
   "source": [
    "q.push(10)\n",
    "q.push(20)\n",
    "q.push(30)"
   ]
  },
  {
   "cell_type": "code",
   "execution_count": 7,
   "metadata": {},
   "outputs": [
    {
     "name": "stdout",
     "output_type": "stream",
     "text": [
      "[10, 20, 30]\n"
     ]
    }
   ],
   "source": [
    "print(q)"
   ]
  },
  {
   "cell_type": "code",
   "execution_count": 10,
   "metadata": {},
   "outputs": [],
   "source": [
    "class Queue:\n",
    "    def __init__(self, data=None):\n",
    "        self.data = data or []\n",
    "        \n",
    "    def push(self, item):\n",
    "        self.data.append(item)\n",
    "        \n",
    "    def pop(self):\n",
    "        return self.data.pop(0) # list.pop(0) give first item\n",
    "    \n",
    "    def isEmpty(self):\n",
    "        return len(self.data)==0\n",
    "    \n",
    "    def __str__(self):\n",
    "        # [10,20,30] -> 10-20-30\n",
    "        # change each item in the list from int to str \n",
    "        result = [ str(i) for i in self.data]\n",
    "        # connect a list of str with '-'\n",
    "        return \"-\".join(result)"
   ]
  },
  {
   "cell_type": "code",
   "execution_count": 8,
   "metadata": {},
   "outputs": [
    {
     "name": "stdout",
     "output_type": "stream",
     "text": [
      "10-20-30\n"
     ]
    }
   ],
   "source": [
    "l = ['10','20','30']\n",
    "result = ''\n",
    "for i in l:\n",
    "    result += i\n",
    "    if i != l[-1]:\n",
    "        result += '-'\n",
    "print(result)"
   ]
  },
  {
   "cell_type": "code",
   "execution_count": 9,
   "metadata": {},
   "outputs": [
    {
     "data": {
      "text/plain": [
       "'10-20-30'"
      ]
     },
     "execution_count": 9,
     "metadata": {},
     "output_type": "execute_result"
    }
   ],
   "source": [
    "'-'.join(l) # str.join  str.split"
   ]
  },
  {
   "cell_type": "code",
   "execution_count": 11,
   "metadata": {},
   "outputs": [
    {
     "name": "stdout",
     "output_type": "stream",
     "text": [
      "10-20-30\n"
     ]
    }
   ],
   "source": [
    "q = Queue([10,20,30])\n",
    "print(q)"
   ]
  },
  {
   "cell_type": "code",
   "execution_count": null,
   "metadata": {},
   "outputs": [],
   "source": []
  },
  {
   "cell_type": "code",
   "execution_count": 12,
   "metadata": {},
   "outputs": [
    {
     "name": "stdout",
     "output_type": "stream",
     "text": [
      "popped item 10\n",
      "popped item 20\n",
      "popped item 30\n",
      "now queue is empty \n"
     ]
    }
   ],
   "source": [
    "while not q.isEmpty():\n",
    "    print(\"popped item\", q.pop())\n",
    "print(\"now queue is empty\", q)"
   ]
  },
  {
   "cell_type": "code",
   "execution_count": 14,
   "metadata": {},
   "outputs": [],
   "source": [
    "class Stack:\n",
    "    def __init__(self, data=None):\n",
    "        self.data = data or []\n",
    "        \n",
    "    def push(self, item):\n",
    "        self.data.append(item)\n",
    "        \n",
    "    def pop(self):\n",
    "        return self.data.pop()\n",
    "    \n",
    "    def isEmpty(self):\n",
    "        return len(self.data)==0\n",
    "    \n",
    "    def __str__(self):\n",
    "        # change each item in the list from int to str \n",
    "        result = [ str(i) for i in self.data]\n",
    "        # connect a list of str with '>'\n",
    "        return \">\".join(result)"
   ]
  },
  {
   "cell_type": "code",
   "execution_count": 15,
   "metadata": {},
   "outputs": [
    {
     "name": "stdout",
     "output_type": "stream",
     "text": [
      "10>20>30\n"
     ]
    }
   ],
   "source": [
    "s = Stack([10, 20, 30])\n",
    "print(s)"
   ]
  },
  {
   "cell_type": "code",
   "execution_count": 16,
   "metadata": {},
   "outputs": [
    {
     "name": "stdout",
     "output_type": "stream",
     "text": [
      "popped item 30\n",
      "popped item 20\n",
      "popped item 10\n",
      "now stack is empty \n"
     ]
    }
   ],
   "source": [
    "while not s.isEmpty():\n",
    "    print(\"popped item\", s.pop())\n",
    "print(\"now stack is empty\", s)"
   ]
  },
  {
   "cell_type": "raw",
   "metadata": {},
   "source": [
    "# solve the problem is hard, but through the exercise, i hope you\n",
    "# appreciate the Stack a little more.\n",
    "# algorithm + data structure\n",
    "# “3 4 + 5 /“\n",
    "\"\"\"\n",
    "elaborate your thought process:\n",
    "\n",
    "go through each item in string\n",
    "3: save\n",
    "4: save\n",
    "+: retrieve previous two items, do the calc\n",
    "result: save intermediate result\n",
    "5: save\n",
    "/: retrieve the two items, do /\n",
    "result: save\n",
    "\n",
    "output the result\n",
    "\"\"\"\n"
   ]
  },
  {
   "cell_type": "code",
   "execution_count": null,
   "metadata": {},
   "outputs": [],
   "source": [
    "# stack push: buffer the input items ( LIFO )\n",
    "# stack pop: retrieve the preivous items"
   ]
  },
  {
   "cell_type": "code",
   "execution_count": 19,
   "metadata": {},
   "outputs": [],
   "source": [
    "def calc(a, op, b):\n",
    "    result = None\n",
    "    if op == '+':\n",
    "        result = a+b\n",
    "    elif op == '-':\n",
    "        result = a-b\n",
    "    elif op == '*':\n",
    "        result = a*b\n",
    "    elif op == '/':\n",
    "        result = a/b\n",
    "    return result\n",
    "\n",
    "def postfix(input_string):\n",
    "    #“3 4 + 5 /“\n",
    "    s = Stack()\n",
    "    for i in input_string.split(): #['3', '4', ...]\n",
    "        if i.isdigit():\n",
    "            s.push(int(i))\n",
    "        else:\n",
    "            a = s.pop() # 4\n",
    "            b = s.pop() # 3\n",
    "            result = calc(b, i, a)\n",
    "            s.push(result)\n",
    "    return result\n",
    "\n",
    "# stack contenet: 3\n",
    "# stack content: 3, 4\n",
    "# stack content: \n",
    "# stack: 7\n",
    "# stack: 7, 5\n",
    "# stack: 1.4\n",
    "\n",
    "# review:\n",
    "# split\n",
    "# think of stack data struct\n",
    "# convert str to int: int(...)\n",
    "# s.push(result) !!!"
   ]
  },
  {
   "cell_type": "code",
   "execution_count": 20,
   "metadata": {},
   "outputs": [
    {
     "data": {
      "text/plain": [
       "1.4"
      ]
     },
     "execution_count": 20,
     "metadata": {},
     "output_type": "execute_result"
    }
   ],
   "source": [
    "postfix(\"3 4 + 5 /\")"
   ]
  },
  {
   "cell_type": "code",
   "execution_count": 22,
   "metadata": {},
   "outputs": [
    {
     "data": {
      "text/plain": [
       "140.0"
      ]
     },
     "execution_count": 22,
     "metadata": {},
     "output_type": "execute_result"
    }
   ],
   "source": [
    "postfix(\"3 4 + 5 / 10 * 10 *\")"
   ]
  },
  {
   "cell_type": "code",
   "execution_count": null,
   "metadata": {},
   "outputs": [],
   "source": []
  },
  {
   "cell_type": "code",
   "execution_count": 24,
   "metadata": {},
   "outputs": [],
   "source": [
    "# construct for loop\n",
    "l = [\"a\", \"b\", \"c\"]"
   ]
  },
  {
   "cell_type": "code",
   "execution_count": 25,
   "metadata": {},
   "outputs": [
    {
     "name": "stdout",
     "output_type": "stream",
     "text": [
      "a\n",
      "b\n",
      "c\n"
     ]
    }
   ],
   "source": [
    "for i in l:\n",
    "    print(i)"
   ]
  },
  {
   "cell_type": "code",
   "execution_count": 26,
   "metadata": {},
   "outputs": [
    {
     "name": "stdout",
     "output_type": "stream",
     "text": [
      "a\n",
      "b\n",
      "c\n"
     ]
    }
   ],
   "source": [
    "# no need to do this, easy to make mistakes. index can be out of range!!!\n",
    "size = len(l)\n",
    "for i in range(size): # 0, 1, 2\n",
    "    print(l[i])"
   ]
  },
  {
   "cell_type": "code",
   "execution_count": 27,
   "metadata": {},
   "outputs": [
    {
     "name": "stdout",
     "output_type": "stream",
     "text": [
      " a\n",
      "  b\n",
      "   c\n"
     ]
    }
   ],
   "source": [
    "# sometime this is useful\n",
    "for i, c in enumerate(l):\n",
    "    print(i*' ', c)"
   ]
  },
  {
   "cell_type": "code",
   "execution_count": null,
   "metadata": {},
   "outputs": [],
   "source": []
  }
 ],
 "metadata": {
  "kernelspec": {
   "display_name": "Python 3",
   "language": "python",
   "name": "python3"
  },
  "language_info": {
   "codemirror_mode": {
    "name": "ipython",
    "version": 3
   },
   "file_extension": ".py",
   "mimetype": "text/x-python",
   "name": "python",
   "nbconvert_exporter": "python",
   "pygments_lexer": "ipython3",
   "version": "3.6.8"
  }
 },
 "nbformat": 4,
 "nbformat_minor": 2
}
