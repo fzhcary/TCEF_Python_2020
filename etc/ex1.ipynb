{
 "cells": [
  {
   "cell_type": "code",
   "execution_count": 1,
   "metadata": {},
   "outputs": [],
   "source": [
    "from random import randint"
   ]
  },
  {
   "cell_type": "code",
   "execution_count": null,
   "metadata": {},
   "outputs": [],
   "source": [
    "def test1():\n",
    "    ret = True\n",
    "    for i in range(10):\n",
    "        a, b = randint(10, 100), randint(10,100)\n",
    "        if a < b:\n",
    "            a, b = b, a\n",
    "        for op in \"+-\":\n",
    "            problem = \"{} {} {}\".format(a, op, b)\n",
    "            result = input(problem + \" = ? \")\n",
    "            try:\n",
    "                if int(result) == eval(problem):\n",
    "                    print(\"correct\")\n",
    "                else:\n",
    "                    print(\"wrong !\\n\" + problem, \"=\", eval(problem))\n",
    "                    ret = False\n",
    "            except:\n",
    "                print(\"wrong !\\n\" + problem, \"=\", eval(problem))\n",
    "                ret = False                \n",
    "    return ret\n",
    "\n",
    "while True:\n",
    "    ret = test1()\n",
    "    if ret:\n",
    "        break\n",
    "    print(\"let's do it again...\")"
   ]
  },
  {
   "cell_type": "code",
   "execution_count": null,
   "metadata": {},
   "outputs": [],
   "source": [
    "def test2():\n",
    "    ret = True\n",
    "    \n",
    "    for i in range(10):\n",
    "        a, b = randint(10, 100), randint(2, 10)\n",
    "        for op in \"*\":\n",
    "            problem = \"{} {} {}\".format(a, op, b)\n",
    "            result = input(problem + \" = ? \")\n",
    "            try:\n",
    "                if int(result) == eval(problem):\n",
    "                    print(\"correct\")\n",
    "                else:\n",
    "                    print(\"wrong !\\n\" + problem, \"=\", eval(problem))    \n",
    "            except:\n",
    "                print(\"wrong !\\n\" + problem, \"=\", eval(problem))\n",
    "                ret = False  \n",
    "    return ret\n",
    "\n",
    "while True:\n",
    "    ret = test2()\n",
    "    if ret:\n",
    "        break\n",
    "    print(\"let's do it again...\")\n",
    "\n",
    "\n"
   ]
  },
  {
   "cell_type": "code",
   "execution_count": null,
   "metadata": {},
   "outputs": [],
   "source": []
  }
 ],
 "metadata": {
  "kernelspec": {
   "display_name": "Python 3",
   "language": "python",
   "name": "python3"
  },
  "language_info": {
   "codemirror_mode": {
    "name": "ipython",
    "version": 3
   },
   "file_extension": ".py",
   "mimetype": "text/x-python",
   "name": "python",
   "nbconvert_exporter": "python",
   "pygments_lexer": "ipython3",
   "version": "3.6.8"
  }
 },
 "nbformat": 4,
 "nbformat_minor": 2
}
