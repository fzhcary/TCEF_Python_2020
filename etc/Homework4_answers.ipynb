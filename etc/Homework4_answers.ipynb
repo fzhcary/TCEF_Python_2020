{
 "cells": [
  {
   "cell_type": "raw",
   "metadata": {},
   "source": [
    "1 .  Common elements in two lists\n",
    "Take two lists, say for example these two:\n",
    "  a = [1, 1, 2, 3, 5, 8, 13, 21, 34, 55, 89]\n",
    "  b = [1, 2, 3, 4, 5, 6, 7, 8, 9, 10, 11, 12, 13]\n",
    "and write a program that \n",
    "a. returns a list that contains only the elements that are common between the lists (without duplicates). \n",
    "b. returns elements that in a but not in b\n",
    "\n",
    "2. List Comprehension\n",
    "given a list\n",
    "years_of_birth = [1990, 1991, 1990, 1990, 1992, 1991]\n",
    "Use list comprehension to create a list of age. \n",
    "\n",
    "3. Write a program to take a string as input\n",
    "a. change all words to lower case\n",
    "b. count all the words that are unique ( case insensitive )\n",
    "c. print the word and appearance frequency\n",
    "for example, \n",
    "def count_words(s):\n",
    "\tpass\n",
    "\n",
    "count_words(“\"The quick brown fox jumps over the lazy dog”)\n",
    "should output\n",
    "total 8 unique words\n",
    "the: 2\n",
    "quick: 1\n",
    "…\n"
   ]
  },
  {
   "cell_type": "code",
   "execution_count": 1,
   "metadata": {},
   "outputs": [],
   "source": [
    "a = [1, 1, 2, 3, 5, 8, 13, 21, 34, 55, 89]\n",
    "b = [1, 2, 3, 4, 5, 6, 7, 8, 9, 10, 11, 12, 13]"
   ]
  },
  {
   "cell_type": "code",
   "execution_count": 2,
   "metadata": {},
   "outputs": [
    {
     "data": {
      "text/plain": [
       "{1, 2, 3, 5, 8, 13}"
      ]
     },
     "execution_count": 2,
     "metadata": {},
     "output_type": "execute_result"
    }
   ],
   "source": [
    "set(a) & set(b)"
   ]
  },
  {
   "cell_type": "code",
   "execution_count": 3,
   "metadata": {},
   "outputs": [
    {
     "data": {
      "text/plain": [
       "{21, 34, 55, 89}"
      ]
     },
     "execution_count": 3,
     "metadata": {},
     "output_type": "execute_result"
    }
   ],
   "source": [
    "set(a) - set(b)"
   ]
  },
  {
   "cell_type": "code",
   "execution_count": 4,
   "metadata": {},
   "outputs": [],
   "source": [
    "years_of_birth = [1990, 1991, 1990, 1990, 1992, 1991]"
   ]
  },
  {
   "cell_type": "code",
   "execution_count": 5,
   "metadata": {},
   "outputs": [
    {
     "data": {
      "text/plain": [
       "[29, 28, 29, 29, 27, 28]"
      ]
     },
     "execution_count": 5,
     "metadata": {},
     "output_type": "execute_result"
    }
   ],
   "source": [
    "ages = [ 2019-year  for year in years_of_birth ]\n",
    "ages"
   ]
  },
  {
   "cell_type": "code",
   "execution_count": 8,
   "metadata": {},
   "outputs": [],
   "source": [
    "def count_words(s):\n",
    "    s = s.lower()\n",
    "    print(\"total unique elements are\", len(set(s.split())))\n",
    "    \n",
    "    # {word: freq} \n",
    "    result = {}  \n",
    "    for word in s.split():\n",
    "        if word in result: # check if word in dict\n",
    "            result[word] += 1\n",
    "        else:\n",
    "            result[word]=1\n",
    "    return result"
   ]
  },
  {
   "cell_type": "code",
   "execution_count": 9,
   "metadata": {},
   "outputs": [
    {
     "name": "stdout",
     "output_type": "stream",
     "text": [
      "total unique elements are 3\n"
     ]
    },
    {
     "data": {
      "text/plain": [
       "{'hello': 1, 'bob': 1, 'alice': 2}"
      ]
     },
     "execution_count": 9,
     "metadata": {},
     "output_type": "execute_result"
    }
   ],
   "source": [
    "count_words(\"hello bob alice alice\")"
   ]
  },
  {
   "cell_type": "code",
   "execution_count": 10,
   "metadata": {},
   "outputs": [],
   "source": [
    "# post question to piazza!!"
   ]
  },
  {
   "cell_type": "code",
   "execution_count": null,
   "metadata": {},
   "outputs": [],
   "source": []
  }
 ],
 "metadata": {
  "kernelspec": {
   "display_name": "Python 3",
   "language": "python",
   "name": "python3"
  },
  "language_info": {
   "codemirror_mode": {
    "name": "ipython",
    "version": 3
   },
   "file_extension": ".py",
   "mimetype": "text/x-python",
   "name": "python",
   "nbconvert_exporter": "python",
   "pygments_lexer": "ipython3",
   "version": "3.6.8"
  }
 },
 "nbformat": 4,
 "nbformat_minor": 2
}
