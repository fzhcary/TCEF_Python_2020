{
 "cells": [
  {
   "cell_type": "code",
   "execution_count": 1,
   "metadata": {},
   "outputs": [],
   "source": [
    "# import pandas as pd\n",
    "# movies = pd.read_csv(\"~/Downloads/ml-1m/movies.dat\", sep='::')\n",
    "# movies.head()"
   ]
  },
  {
   "cell_type": "code",
   "execution_count": null,
   "metadata": {},
   "outputs": [],
   "source": []
  },
  {
   "cell_type": "code",
   "execution_count": 2,
   "metadata": {},
   "outputs": [
    {
     "name": "stdout",
     "output_type": "stream",
     "text": [
      "/Users/mingyuzhu/Downloads/ml-1m/movies.dat\r\n"
     ]
    }
   ],
   "source": [
    "%ls ~/Downloads/ml-1m/movies.dat"
   ]
  },
  {
   "cell_type": "code",
   "execution_count": 56,
   "metadata": {},
   "outputs": [
    {
     "name": "stdout",
     "output_type": "stream",
     "text": [
      "1::Toy Story (1995)::Animation|Children's|Comedy\n",
      "\n",
      "2::Jumanji (1995)::Adventure|Children's|Fantasy\n",
      "\n",
      "3::Grumpier Old Men (1995)::Comedy|Romance\n",
      "\n"
     ]
    }
   ],
   "source": [
    "with open(\"/Users/mingyuzhu/Downloads/ml-1m/movies.dat\",\n",
    "          encoding=\"latin-1\") as f:\n",
    "    for _, line in zip(range(3), f):\n",
    "        print(line)"
   ]
  },
  {
   "cell_type": "raw",
   "metadata": {},
   "source": [
    "Homework, given the following string, \n",
    "\n",
    "\"\"\"\n",
    "1::Toy Story (1995)::Animation|Children's|Comedy\n",
    "\n",
    "2::Jumanji (1995)::Adventure|Children's|Fantasy\n",
    "\n",
    "3::Grumpier Old Men (1995)::Comedy|Romance\n",
    "\n",
    "\"\"\"\n",
    "\n",
    "1. write them to  a text file,  (10')\n",
    "2. read each line from the file, (10')\n",
    "3. then  extract genre and print them out, use split (20')\n",
    "4. bonus points: extract the movie name, year, (40')\n",
    "5. bonus points: use pyfiglet to print all ascii letters from 32 - 128 (20')"
   ]
  },
  {
   "cell_type": "code",
   "execution_count": null,
   "metadata": {},
   "outputs": [],
   "source": []
  },
  {
   "cell_type": "code",
   "execution_count": 5,
   "metadata": {},
   "outputs": [],
   "source": [
    "# Charactor Encoding \n",
    "# ASCII\n"
   ]
  },
  {
   "cell_type": "code",
   "execution_count": 57,
   "metadata": {},
   "outputs": [
    {
     "name": "stdout",
     "output_type": "stream",
     "text": [
      " ___   _                  ____        _   _                   _ \n",
      "|_ _| | | _____   _____  |  _ \\ _   _| |_| |__   ___  _ __   | |\n",
      " | |  | |/ _ \\ \\ / / _ \\ | |_) | | | | __| '_ \\ / _ \\| '_ \\  | |\n",
      " | |  | | (_) \\ V /  __/ |  __/| |_| | |_| | | | (_) | | | | |_|\n",
      "|___| |_|\\___/ \\_/ \\___| |_|    \\__, |\\__|_| |_|\\___/|_| |_| (_)\n",
      "                                |___/                           \n",
      "\n"
     ]
    }
   ],
   "source": []
  },
  {
   "cell_type": "code",
   "execution_count": 22,
   "metadata": {},
   "outputs": [
    {
     "data": {
      "text/plain": [
       "'0b1000001'"
      ]
     },
     "execution_count": 22,
     "metadata": {},
     "output_type": "execute_result"
    }
   ],
   "source": [
    "bin(65)  # integer -> string of binary"
   ]
  },
  {
   "cell_type": "code",
   "execution_count": 26,
   "metadata": {},
   "outputs": [
    {
     "data": {
      "text/plain": [
       "(7, 9, 17)"
      ]
     },
     "execution_count": 26,
     "metadata": {},
     "output_type": "execute_result"
    }
   ],
   "source": [
    "0b111, 0o11, 0x11"
   ]
  },
  {
   "cell_type": "code",
   "execution_count": 46,
   "metadata": {},
   "outputs": [
    {
     "data": {
      "text/plain": [
       "'A'"
      ]
     },
     "execution_count": 46,
     "metadata": {},
     "output_type": "execute_result"
    }
   ],
   "source": [
    "  # chr : int -> char"
   ]
  },
  {
   "cell_type": "code",
   "execution_count": 28,
   "metadata": {},
   "outputs": [
    {
     "data": {
      "text/plain": [
       "True"
      ]
     },
     "execution_count": 28,
     "metadata": {},
     "output_type": "execute_result"
    }
   ],
   "source": [
    "65 == ord('A')"
   ]
  },
  {
   "cell_type": "code",
   "execution_count": 47,
   "metadata": {},
   "outputs": [
    {
     "data": {
      "text/plain": [
       "'0x41'"
      ]
     },
     "execution_count": 47,
     "metadata": {},
     "output_type": "execute_result"
    }
   ],
   "source": []
  },
  {
   "cell_type": "code",
   "execution_count": 13,
   "metadata": {},
   "outputs": [
    {
     "data": {
      "text/plain": [
       "b'abc'"
      ]
     },
     "execution_count": 13,
     "metadata": {},
     "output_type": "execute_result"
    }
   ],
   "source": [
    "\"abc\".encode(\"ascii\")"
   ]
  },
  {
   "cell_type": "code",
   "execution_count": 31,
   "metadata": {},
   "outputs": [
    {
     "name": "stdout",
     "output_type": "stream",
     "text": [
      "b'abc'\n"
     ]
    }
   ],
   "source": [
    "print(b'abc')"
   ]
  },
  {
   "cell_type": "code",
   "execution_count": 33,
   "metadata": {},
   "outputs": [],
   "source": [
    "with open('abc.txt', 'w') as f:\n",
    "    f.write(\"abc\")"
   ]
  },
  {
   "cell_type": "code",
   "execution_count": 37,
   "metadata": {},
   "outputs": [],
   "source": [
    "# once serialized into file, it becomes binary in both examples.\n",
    "with open('abc2.txt', 'wb') as f:\n",
    "    f.write(b\"abc\")"
   ]
  },
  {
   "cell_type": "code",
   "execution_count": 11,
   "metadata": {},
   "outputs": [
    {
     "data": {
      "text/plain": [
       "b'r\\xc3\\xa9sum\\xc3\\xa9'"
      ]
     },
     "execution_count": 11,
     "metadata": {},
     "output_type": "execute_result"
    }
   ],
   "source": [
    "\"résumé\".encode(\"utf-8\")"
   ]
  },
  {
   "cell_type": "code",
   "execution_count": 39,
   "metadata": {},
   "outputs": [],
   "source": [
    "with open('resume', 'wb') as f:\n",
    "    f.write(\"résumé\".encode(\"utf-8\"))"
   ]
  },
  {
   "cell_type": "code",
   "execution_count": 40,
   "metadata": {},
   "outputs": [
    {
     "name": "stdout",
     "output_type": "stream",
     "text": [
      "b'r\\xc3\\xa9sum\\xc3\\xa9'\n"
     ]
    }
   ],
   "source": [
    "with open('resume', 'rb') as f:\n",
    "    print(f.read())"
   ]
  },
  {
   "cell_type": "code",
   "execution_count": 42,
   "metadata": {},
   "outputs": [
    {
     "name": "stdout",
     "output_type": "stream",
     "text": [
      "résumé\n"
     ]
    }
   ],
   "source": [
    "with open('resume', 'rb') as f:\n",
    "    print(f.read().decode(\"utf-8\"))"
   ]
  },
  {
   "cell_type": "code",
   "execution_count": 12,
   "metadata": {},
   "outputs": [
    {
     "ename": "UnicodeEncodeError",
     "evalue": "'ascii' codec can't encode character '\\xe9' in position 1: ordinal not in range(128)",
     "output_type": "error",
     "traceback": [
      "\u001b[0;31m---------------------------------------------------------------------------\u001b[0m",
      "\u001b[0;31mUnicodeEncodeError\u001b[0m                        Traceback (most recent call last)",
      "\u001b[0;32m<ipython-input-12-a3d8b27eff8e>\u001b[0m in \u001b[0;36m<module>\u001b[0;34m\u001b[0m\n\u001b[0;32m----> 1\u001b[0;31m \u001b[0;34m\"résumé\"\u001b[0m\u001b[0;34m.\u001b[0m\u001b[0mencode\u001b[0m\u001b[0;34m(\u001b[0m\u001b[0;34m\"ascii\"\u001b[0m\u001b[0;34m)\u001b[0m\u001b[0;34m\u001b[0m\u001b[0;34m\u001b[0m\u001b[0m\n\u001b[0m",
      "\u001b[0;31mUnicodeEncodeError\u001b[0m: 'ascii' codec can't encode character '\\xe9' in position 1: ordinal not in range(128)"
     ]
    }
   ],
   "source": [
    "\"résumé\".encode(\"ascii\")"
   ]
  },
  {
   "cell_type": "code",
   "execution_count": 14,
   "metadata": {},
   "outputs": [
    {
     "data": {
      "text/plain": [
       "b'r\\xe9sum\\xe9'"
      ]
     },
     "execution_count": 14,
     "metadata": {},
     "output_type": "execute_result"
    }
   ],
   "source": [
    "\"résumé\".encode(\"latin-1\")"
   ]
  },
  {
   "cell_type": "code",
   "execution_count": 17,
   "metadata": {},
   "outputs": [],
   "source": [
    "# https://realpython.com/python-encodings-guide/\n",
    "# https://realpython.com/python-data-types/#integers"
   ]
  },
  {
   "cell_type": "code",
   "execution_count": 32,
   "metadata": {},
   "outputs": [],
   "source": [
    "# use xxd to display file in hex"
   ]
  },
  {
   "cell_type": "code",
   "execution_count": null,
   "metadata": {},
   "outputs": [],
   "source": [
    "x = 1\n",
    "for i in range(1, 101):\n",
    "    x = x*i\n",
    "print(x)\n",
    "\n",
    "count = 0\n",
    "while x % 10 == 0:\n",
    "    x = x // 10\n",
    "    count = count + 1\n",
    "    \n",
    "print(count)"
   ]
  },
  {
   "cell_type": "code",
   "execution_count": null,
   "metadata": {},
   "outputs": [],
   "source": [
    "def find_complete_number(k):\n",
    "    for n in range(k):\n",
    "        result = []\n",
    "        for i in range(1, n//2+1):\n",
    "            if n % i == 0:\n",
    "                result.append(i)\n",
    "        if sum(result) == n:\n",
    "            print(n)\n",
    "\n",
    "find_complete_number(1000)"
   ]
  }
 ],
 "metadata": {
  "kernelspec": {
   "display_name": "Python 3",
   "language": "python",
   "name": "python3"
  },
  "language_info": {
   "codemirror_mode": {
    "name": "ipython",
    "version": 3
   },
   "file_extension": ".py",
   "mimetype": "text/x-python",
   "name": "python",
   "nbconvert_exporter": "python",
   "pygments_lexer": "ipython3",
   "version": "3.6.8"
  }
 },
 "nbformat": 4,
 "nbformat_minor": 2
}
